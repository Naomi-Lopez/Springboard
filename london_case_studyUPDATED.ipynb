{
 "cells": [
  {
   "cell_type": "markdown",
   "metadata": {
    "colab_type": "text",
    "id": "Tia3MP1SJpgj"
   },
   "source": [
    "# Springboard Data Science Career Track Unit 4 Challenge - Tier 3 Complete\n",
    "\n",
    "## Objectives\n",
    "Hey! Great job getting through those challenging DataCamp courses. You're learning a lot in a short span of time. \n",
    "\n",
    "In this notebook, you're going to apply the skills you've been learning, bridging the gap between the controlled environment of DataCamp and the *slightly* messier work that data scientists do with actual datasets!\n",
    "\n",
    "Here’s the mystery we’re going to solve: ***which boroughs of London have seen the greatest increase in housing prices, on average, over the last two decades?***\n",
    "\n",
    "\n",
    "A borough is just a fancy word for district. You may be familiar with the five boroughs of New York… well, there are 32 boroughs within Greater London [(here's some info for the curious)](https://en.wikipedia.org/wiki/London_boroughs). Some of them are more desirable areas to live in, and the data will reflect that with a greater rise in housing prices.\n",
    "\n",
    "***This is the Tier 3 notebook, which means it's not filled in at all: we'll just give you the skeleton of a project, the brief and the data. It's up to you to play around with it and see what you can find out! Good luck! If you struggle, feel free to look at easier tiers for help; but try to dip in and out of them, as the more independent work you do, the better it is for your learning!***\n",
    "\n",
    "This challenge will make use of only what you learned in the following DataCamp courses: \n",
    "- Prework courses (Introduction to Python for Data Science, Intermediate Python for Data Science)\n",
    "- Data Types for Data Science\n",
    "- Python Data Science Toolbox (Part One) \n",
    "- pandas Foundations\n",
    "- Manipulating DataFrames with pandas\n",
    "- Merging DataFrames with pandas\n",
    "\n",
    "Of the tools, techniques and concepts in the above DataCamp courses, this challenge should require the application of the following: \n",
    "- **pandas**\n",
    "    - **data ingestion and inspection** (pandas Foundations, Module One) \n",
    "    - **exploratory data analysis** (pandas Foundations, Module Two)\n",
    "    - **tidying and cleaning** (Manipulating DataFrames with pandas, Module Three) \n",
    "    - **transforming DataFrames** (Manipulating DataFrames with pandas, Module One)\n",
    "    - **subsetting DataFrames with lists** (Manipulating DataFrames with pandas, Module One) \n",
    "    - **filtering DataFrames** (Manipulating DataFrames with pandas, Module One) \n",
    "    - **grouping data** (Manipulating DataFrames with pandas, Module Four) \n",
    "    - **melting data** (Manipulating DataFrames with pandas, Module Three) \n",
    "    - **advanced indexing** (Manipulating DataFrames with pandas, Module Four) \n",
    "- **matplotlib** (Intermediate Python for Data Science, Module One)\n",
    "- **fundamental data types** (Data Types for Data Science, Module One) \n",
    "- **dictionaries** (Intermediate Python for Data Science, Module Two)\n",
    "- **handling dates and times** (Data Types for Data Science, Module Four)\n",
    "- **function definition** (Python Data Science Toolbox - Part One, Module One)\n",
    "- **default arguments, variable length, and scope** (Python Data Science Toolbox - Part One, Module Two) \n",
    "- **lambda functions and error handling** (Python Data Science Toolbox - Part One, Module Four) "
   ]
  },
  {
   "cell_type": "markdown",
   "metadata": {
    "colab_type": "text",
    "id": "Ipgd2nV8Jpgl"
   },
   "source": [
    "## The Data Science Pipeline\n",
    "\n",
    "This is Tier Three, so we'll get you started. But after that, it's all in your hands! When you feel done with your investigations, look back over what you've accomplished, and prepare a quick presentation of your findings for the next mentor meeting. \n",
    "\n",
    "Data Science is magical. In this case study, you'll get to apply some complex machine learning algorithms. But as  [David Spiegelhalter](https://www.youtube.com/watch?v=oUs1uvsz0Ok) reminds us, there is no substitute for simply **taking a really, really good look at the data.** Sometimes, this is all we need to answer our question.\n",
    "\n",
    "Data Science projects generally adhere to the four stages of Data Science Pipeline:\n",
    "1. Sourcing and loading \n",
    "2. Cleaning, transforming, and visualizing \n",
    "3. Modeling \n",
    "4. Evaluating and concluding \n"
   ]
  },
  {
   "cell_type": "markdown",
   "metadata": {
    "colab_type": "text",
    "id": "zswDqbefJpgm"
   },
   "source": [
    "### 1. Sourcing and Loading \n",
    "\n",
    "Any Data Science project kicks off by importing  ***pandas***. The documentation of this wonderful library can be found [here](https://pandas.pydata.org/). As you've seen, pandas is conveniently connected to the [Numpy](http://www.numpy.org/) and [Matplotlib](https://matplotlib.org/) libraries. \n",
    "\n",
    "***Hint:*** This part of the data science pipeline will test those skills you acquired in the pandas Foundations course, Module One. "
   ]
  },
  {
   "cell_type": "markdown",
   "metadata": {
    "colab_type": "text",
    "id": "aEau5nEvJpgm"
   },
   "source": [
    "#### 1.1. Importing Libraries"
   ]
  },
  {
   "cell_type": "code",
   "execution_count": null,
   "metadata": {
    "colab": {},
    "colab_type": "code",
    "id": "7Bt_Q_oPJpgn"
   },
   "outputs": [],
   "source": [
    "# Let's import the pandas, numpy libraries as pd, and np respectively. \n",
    "import pandas as pd\n",
    "import numpy as np \n",
    "\n",
    "# Load the pyplot collection of functions from matplotlib, as plt \n",
    "import matplotlib.pyplot as plt \n"
   ]
  },
  {
   "cell_type": "markdown",
   "metadata": {
    "colab_type": "text",
    "id": "koUrawxsJpgq"
   },
   "source": [
    "#### 1.2.  Loading the data\n",
    "Your data comes from the [London Datastore](https://data.london.gov.uk/): a free, open-source data-sharing portal for London-oriented datasets. "
   ]
  },
  {
   "cell_type": "code",
   "execution_count": 19,
   "metadata": {
    "colab": {},
    "colab_type": "code",
    "id": "AiLiD4v3Jpgr"
   },
   "outputs": [],
   "source": [
    "# First, make a variable called url_LondonHousePrices, and assign it the following link, enclosed in quotation-marks as a string:\n",
    "# https://data.london.gov.uk/download/uk-house-price-index/70ac0766-8902-4eb5-aab5-01951aaed773/UK%20House%20price%20index.xls\n",
    "\n",
    "url_LondonHousePrices = \"https://data.london.gov.uk/download/uk-house-price-index/70ac0766-8902-4eb5-aab5-01951aaed773/UK%20House%20price%20index.xls\"\n",
    "\n",
    "# The dataset we're interested in contains the Average prices of the houses, and is actually on a particular sheet of the Excel file. \n",
    "# As a result, we need to specify the sheet name in the read_excel() method.\n",
    "# Put this data into a variable called properties.  \n",
    "properties = pd.read_excel(url_LondonHousePrices, sheet_name='Average price', index_col= None)\n",
    "\n"
   ]
  },
  {
   "cell_type": "markdown",
   "metadata": {
    "colab_type": "text",
    "id": "POukEJXgJpgu"
   },
   "source": [
    "### 2. Cleaning, transforming, and visualizing\n",
    "This second stage is arguably the most important part of any Data Science project. The first thing to do is take a proper look at the data. Cleaning forms the majority of this stage, and can be done both before or after Transformation.\n",
    "\n",
    "The end goal of data cleaning is to have tidy data. When data is tidy: \n",
    "\n",
    "1. Each variable has a column.\n",
    "2. Each observation forms a row.\n",
    "\n",
    "Keep the end goal in mind as you move through this process, every step will take you closer. \n",
    "\n",
    "\n",
    "\n",
    "***Hint:*** This part of the data science pipeline should test those skills you acquired in: \n",
    "- Intermediate Python for data science, all modules.\n",
    "- pandas Foundations, all modules. \n",
    "- Manipulating DataFrames with pandas, all modules.\n",
    "- Data Types for Data Science, Module Four.\n",
    "- Python Data Science Toolbox - Part One, all modules"
   ]
  },
  {
   "cell_type": "markdown",
   "metadata": {
    "colab_type": "text",
    "id": "Te0Q548tnzZa"
   },
   "source": [
    "**2.1. Exploring your data** \n",
    "\n",
    "Think about your pandas functions for checking out a dataframe. "
   ]
  },
  {
   "cell_type": "code",
   "execution_count": 20,
   "metadata": {
    "colab": {},
    "colab_type": "code",
    "id": "Rxirxw_qoAJa"
   },
   "outputs": [
    {
     "data": {
      "text/plain": [
       "<bound method NDFrame.head of     Unnamed: 0 City of London Barking & Dagenham       Barnet       Bexley  \\\n",
       "0          NaT      E09000001          E09000002    E09000003    E09000004   \n",
       "1   1995-01-01    91448.98487         50460.2266  93284.51832  64958.09036   \n",
       "2   1995-02-01    82202.77314        51085.77983  93190.16963  64787.92069   \n",
       "3   1995-03-01    79120.70256        51268.96956  92247.52435  64367.49344   \n",
       "4   1995-04-01    77101.20804        53133.50526  90762.87492  64277.66881   \n",
       "..         ...            ...                ...          ...          ...   \n",
       "343 2023-07-01         973133             341446       575129       387566   \n",
       "344 2023-08-01         901625             341710       585896       386939   \n",
       "345 2023-09-01         875029             339983       586665       388778   \n",
       "346 2023-10-01         831708             341370       579777       385477   \n",
       "347 2023-11-01         727023             353585       581265       381785   \n",
       "\n",
       "           Brent      Bromley       Camden      Croydon       Ealing  ...  \\\n",
       "0      E09000005    E09000006    E09000007    E09000008    E09000009  ...   \n",
       "1    71306.56698  81671.47692  120932.8881  69158.16225  79885.89069  ...   \n",
       "2    72022.26197  81657.55944  119508.8622  68951.09542  80897.06551  ...   \n",
       "3    72015.76274  81449.31143  120282.2131  68712.44341  81379.86288  ...   \n",
       "4    72965.63094  81124.41227   120097.899  68610.04641  82188.90498  ...   \n",
       "..           ...          ...          ...          ...          ...  ...   \n",
       "343       521706       496618       846398       407452       506973  ...   \n",
       "344       546948       499236       856281       411798       510934  ...   \n",
       "345       550526       502192       832767       417526       511126  ...   \n",
       "346       552639       505164       839617       408220       505769  ...   \n",
       "347       535808       500485       830349       395865       482601  ...   \n",
       "\n",
       "      NORTH WEST YORKS & THE HUMBER EAST MIDLANDS WEST MIDLANDS  \\\n",
       "0      E12000002          E12000003     E12000004     E12000005   \n",
       "1    43958.48001        44803.42878   45544.52227   48527.52339   \n",
       "2    43925.42289        44528.80721   46051.57066   49341.29029   \n",
       "3     44434.8681        45200.46775   45383.82395   49442.17973   \n",
       "4     44267.7796        45614.34341   46124.23045   49455.93299   \n",
       "..           ...                ...           ...           ...   \n",
       "343       213178             209027        247247        250666   \n",
       "344       214925             212427        250772        253279   \n",
       "345       215632             208233        249003        253848   \n",
       "346       215276             209545        245580        251361   \n",
       "347       213333             209526        243577        243655   \n",
       "\n",
       "    EAST OF ENGLAND       LONDON   SOUTH EAST   SOUTH WEST Unnamed: 47  \\\n",
       "0         E12000006    E12000007    E12000008    E12000009         NaN   \n",
       "1        56701.5961  74435.76052  64018.87894   54705.1579         NaN   \n",
       "2       56593.59475  72777.93709  63715.02399  54356.14843         NaN   \n",
       "3       56171.18278  73896.84204  64113.60858  53583.07667         NaN   \n",
       "4       56567.89582  74455.28754  64623.22395  54786.01938         NaN   \n",
       "..              ...          ...          ...          ...         ...   \n",
       "343          349368       523011       389154       323088         NaN   \n",
       "344          351276       528140       391114       327551         NaN   \n",
       "345          352286       531306       391341       326490         NaN   \n",
       "346          347320       516852       387374       327993         NaN   \n",
       "347          346659       505283       385844       319221         NaN   \n",
       "\n",
       "         England  \n",
       "0      E92000001  \n",
       "1    53202.77128  \n",
       "2     53096.1549  \n",
       "3     53201.2843  \n",
       "4     53590.8548  \n",
       "..           ...  \n",
       "343       304943  \n",
       "344       308325  \n",
       "345       307635  \n",
       "346       305148  \n",
       "347       301613  \n",
       "\n",
       "[348 rows x 49 columns]>"
      ]
     },
     "execution_count": 20,
     "metadata": {},
     "output_type": "execute_result"
    }
   ],
   "source": [
    "properties.shape\n",
    "properties.head"
   ]
  },
  {
   "cell_type": "markdown",
   "metadata": {
    "colab_type": "text",
    "id": "tE9Sqt9-oAta"
   },
   "source": [
    "**2.2. Cleaning the data**\n",
    "\n",
    "You might find you need to transpose your dataframe, check out what its row indexes are, and reset the index. You  also might find you need to assign the values of the first row to your column headings  . (Hint: recall the .columns feature of DataFrames, as well as the iloc[] method).\n",
    "\n",
    "Don't be afraid to use StackOverflow for help  with this."
   ]
  },
  {
   "cell_type": "code",
   "execution_count": 21,
   "metadata": {
    "colab": {},
    "colab_type": "code",
    "id": "cdAu1A3YoH_r"
   },
   "outputs": [
    {
     "data": {
      "text/html": [
       "<div>\n",
       "<style scoped>\n",
       "    .dataframe tbody tr th:only-of-type {\n",
       "        vertical-align: middle;\n",
       "    }\n",
       "\n",
       "    .dataframe tbody tr th {\n",
       "        vertical-align: top;\n",
       "    }\n",
       "\n",
       "    .dataframe thead th {\n",
       "        text-align: right;\n",
       "    }\n",
       "</style>\n",
       "<table border=\"1\" class=\"dataframe\">\n",
       "  <thead>\n",
       "    <tr style=\"text-align: right;\">\n",
       "      <th></th>\n",
       "      <th>Unnamed: 0</th>\n",
       "      <th>NaT</th>\n",
       "      <th>1995-01-01 00:00:00</th>\n",
       "      <th>1995-02-01 00:00:00</th>\n",
       "      <th>1995-03-01 00:00:00</th>\n",
       "      <th>1995-04-01 00:00:00</th>\n",
       "      <th>1995-05-01 00:00:00</th>\n",
       "      <th>1995-06-01 00:00:00</th>\n",
       "      <th>1995-07-01 00:00:00</th>\n",
       "      <th>1995-08-01 00:00:00</th>\n",
       "      <th>...</th>\n",
       "      <th>2023-02-01 00:00:00</th>\n",
       "      <th>2023-03-01 00:00:00</th>\n",
       "      <th>2023-04-01 00:00:00</th>\n",
       "      <th>2023-05-01 00:00:00</th>\n",
       "      <th>2023-06-01 00:00:00</th>\n",
       "      <th>2023-07-01 00:00:00</th>\n",
       "      <th>2023-08-01 00:00:00</th>\n",
       "      <th>2023-09-01 00:00:00</th>\n",
       "      <th>2023-10-01 00:00:00</th>\n",
       "      <th>2023-11-01 00:00:00</th>\n",
       "    </tr>\n",
       "  </thead>\n",
       "  <tbody>\n",
       "    <tr>\n",
       "      <th>1</th>\n",
       "      <td>City of London</td>\n",
       "      <td>E09000001</td>\n",
       "      <td>91448.98487</td>\n",
       "      <td>82202.77314</td>\n",
       "      <td>79120.70256</td>\n",
       "      <td>77101.20804</td>\n",
       "      <td>84409.14932</td>\n",
       "      <td>94900.51244</td>\n",
       "      <td>110128.0423</td>\n",
       "      <td>112329.4376</td>\n",
       "      <td>...</td>\n",
       "      <td>863617</td>\n",
       "      <td>925703</td>\n",
       "      <td>899500</td>\n",
       "      <td>959254</td>\n",
       "      <td>994766</td>\n",
       "      <td>973133</td>\n",
       "      <td>901625</td>\n",
       "      <td>875029</td>\n",
       "      <td>831708</td>\n",
       "      <td>727023</td>\n",
       "    </tr>\n",
       "    <tr>\n",
       "      <th>2</th>\n",
       "      <td>Barking &amp; Dagenham</td>\n",
       "      <td>E09000002</td>\n",
       "      <td>50460.2266</td>\n",
       "      <td>51085.77983</td>\n",
       "      <td>51268.96956</td>\n",
       "      <td>53133.50526</td>\n",
       "      <td>53042.24852</td>\n",
       "      <td>53700.34831</td>\n",
       "      <td>52113.12157</td>\n",
       "      <td>52232.19868</td>\n",
       "      <td>...</td>\n",
       "      <td>345817</td>\n",
       "      <td>344085</td>\n",
       "      <td>346762</td>\n",
       "      <td>347252</td>\n",
       "      <td>343807</td>\n",
       "      <td>341446</td>\n",
       "      <td>341710</td>\n",
       "      <td>339983</td>\n",
       "      <td>341370</td>\n",
       "      <td>353585</td>\n",
       "    </tr>\n",
       "    <tr>\n",
       "      <th>3</th>\n",
       "      <td>Barnet</td>\n",
       "      <td>E09000003</td>\n",
       "      <td>93284.51832</td>\n",
       "      <td>93190.16963</td>\n",
       "      <td>92247.52435</td>\n",
       "      <td>90762.87492</td>\n",
       "      <td>90258.00033</td>\n",
       "      <td>90107.23471</td>\n",
       "      <td>91441.24768</td>\n",
       "      <td>92361.31512</td>\n",
       "      <td>...</td>\n",
       "      <td>602916</td>\n",
       "      <td>596553</td>\n",
       "      <td>586098</td>\n",
       "      <td>570759</td>\n",
       "      <td>569322</td>\n",
       "      <td>575129</td>\n",
       "      <td>585896</td>\n",
       "      <td>586665</td>\n",
       "      <td>579777</td>\n",
       "      <td>581265</td>\n",
       "    </tr>\n",
       "    <tr>\n",
       "      <th>4</th>\n",
       "      <td>Bexley</td>\n",
       "      <td>E09000004</td>\n",
       "      <td>64958.09036</td>\n",
       "      <td>64787.92069</td>\n",
       "      <td>64367.49344</td>\n",
       "      <td>64277.66881</td>\n",
       "      <td>63997.13588</td>\n",
       "      <td>64252.32335</td>\n",
       "      <td>63722.70055</td>\n",
       "      <td>64432.60005</td>\n",
       "      <td>...</td>\n",
       "      <td>400260</td>\n",
       "      <td>395674</td>\n",
       "      <td>393908</td>\n",
       "      <td>387134</td>\n",
       "      <td>385075</td>\n",
       "      <td>387566</td>\n",
       "      <td>386939</td>\n",
       "      <td>388778</td>\n",
       "      <td>385477</td>\n",
       "      <td>381785</td>\n",
       "    </tr>\n",
       "    <tr>\n",
       "      <th>5</th>\n",
       "      <td>Brent</td>\n",
       "      <td>E09000005</td>\n",
       "      <td>71306.56698</td>\n",
       "      <td>72022.26197</td>\n",
       "      <td>72015.76274</td>\n",
       "      <td>72965.63094</td>\n",
       "      <td>73704.04743</td>\n",
       "      <td>74310.48167</td>\n",
       "      <td>74127.03788</td>\n",
       "      <td>73547.0411</td>\n",
       "      <td>...</td>\n",
       "      <td>533533</td>\n",
       "      <td>527468</td>\n",
       "      <td>528340</td>\n",
       "      <td>525984</td>\n",
       "      <td>526845</td>\n",
       "      <td>521706</td>\n",
       "      <td>546948</td>\n",
       "      <td>550526</td>\n",
       "      <td>552639</td>\n",
       "      <td>535808</td>\n",
       "    </tr>\n",
       "  </tbody>\n",
       "</table>\n",
       "<p>5 rows × 349 columns</p>\n",
       "</div>"
      ],
      "text/plain": [
       "0          Unnamed: 0        NaT 1995-01-01 00:00:00 1995-02-01 00:00:00  \\\n",
       "1      City of London  E09000001         91448.98487         82202.77314   \n",
       "2  Barking & Dagenham  E09000002          50460.2266         51085.77983   \n",
       "3              Barnet  E09000003         93284.51832         93190.16963   \n",
       "4              Bexley  E09000004         64958.09036         64787.92069   \n",
       "5               Brent  E09000005         71306.56698         72022.26197   \n",
       "\n",
       "0 1995-03-01 00:00:00 1995-04-01 00:00:00 1995-05-01 00:00:00  \\\n",
       "1         79120.70256         77101.20804         84409.14932   \n",
       "2         51268.96956         53133.50526         53042.24852   \n",
       "3         92247.52435         90762.87492         90258.00033   \n",
       "4         64367.49344         64277.66881         63997.13588   \n",
       "5         72015.76274         72965.63094         73704.04743   \n",
       "\n",
       "0 1995-06-01 00:00:00 1995-07-01 00:00:00 1995-08-01 00:00:00  ...  \\\n",
       "1         94900.51244         110128.0423         112329.4376  ...   \n",
       "2         53700.34831         52113.12157         52232.19868  ...   \n",
       "3         90107.23471         91441.24768         92361.31512  ...   \n",
       "4         64252.32335         63722.70055         64432.60005  ...   \n",
       "5         74310.48167         74127.03788          73547.0411  ...   \n",
       "\n",
       "0 2023-02-01 00:00:00 2023-03-01 00:00:00 2023-04-01 00:00:00  \\\n",
       "1              863617              925703              899500   \n",
       "2              345817              344085              346762   \n",
       "3              602916              596553              586098   \n",
       "4              400260              395674              393908   \n",
       "5              533533              527468              528340   \n",
       "\n",
       "0 2023-05-01 00:00:00 2023-06-01 00:00:00 2023-07-01 00:00:00  \\\n",
       "1              959254              994766              973133   \n",
       "2              347252              343807              341446   \n",
       "3              570759              569322              575129   \n",
       "4              387134              385075              387566   \n",
       "5              525984              526845              521706   \n",
       "\n",
       "0 2023-08-01 00:00:00 2023-09-01 00:00:00 2023-10-01 00:00:00  \\\n",
       "1              901625              875029              831708   \n",
       "2              341710              339983              341370   \n",
       "3              585896              586665              579777   \n",
       "4              386939              388778              385477   \n",
       "5              546948              550526              552639   \n",
       "\n",
       "0 2023-11-01 00:00:00  \n",
       "1              727023  \n",
       "2              353585  \n",
       "3              581265  \n",
       "4              381785  \n",
       "5              535808  \n",
       "\n",
       "[5 rows x 349 columns]"
      ]
     },
     "execution_count": 21,
     "metadata": {},
     "output_type": "execute_result"
    }
   ],
   "source": [
    "#Transpoing the df so that dates are now column headings \n",
    "properties_T = properties.T\n",
    "\n",
    "#reset index \n",
    "properties_T = properties_T.reset_index()\n",
    "properties_T.head()\n",
    "\n",
    "#replaces the existing column labels with the values from the first row\n",
    "properties_T.columns = properties_T.iloc[0]\n",
    "properties_T.head()\n",
    "\n",
    "#drop first row b/c it was redundant and now dates are column headings\n",
    "properties_T_1 = properties_T.drop(0)\n",
    "properties_T_1.head()\n",
    "\n",
    "\n",
    "\n",
    "\n",
    "\n",
    "\n",
    "\n",
    "\n",
    "\n",
    "\n",
    "\n",
    "\n"
   ]
  },
  {
   "cell_type": "markdown",
   "metadata": {
    "colab_type": "text",
    "id": "o1uLbJAsoIjK"
   },
   "source": [
    "**2.3. Cleaning the data (part 2)**\n",
    "\n",
    "You might we have to **rename** a couple columns. How do you do this? The clue's pretty bold..."
   ]
  },
  {
   "cell_type": "code",
   "execution_count": 22,
   "metadata": {
    "colab": {},
    "colab_type": "code",
    "id": "GKkmn1AnoVZS"
   },
   "outputs": [
    {
     "data": {
      "text/html": [
       "<div>\n",
       "<style scoped>\n",
       "    .dataframe tbody tr th:only-of-type {\n",
       "        vertical-align: middle;\n",
       "    }\n",
       "\n",
       "    .dataframe tbody tr th {\n",
       "        vertical-align: top;\n",
       "    }\n",
       "\n",
       "    .dataframe thead th {\n",
       "        text-align: right;\n",
       "    }\n",
       "</style>\n",
       "<table border=\"1\" class=\"dataframe\">\n",
       "  <thead>\n",
       "    <tr style=\"text-align: right;\">\n",
       "      <th></th>\n",
       "      <th>Location</th>\n",
       "      <th>ID</th>\n",
       "      <th>1995-01-01 00:00:00</th>\n",
       "      <th>1995-02-01 00:00:00</th>\n",
       "      <th>1995-03-01 00:00:00</th>\n",
       "      <th>1995-04-01 00:00:00</th>\n",
       "      <th>1995-05-01 00:00:00</th>\n",
       "      <th>1995-06-01 00:00:00</th>\n",
       "      <th>1995-07-01 00:00:00</th>\n",
       "      <th>1995-08-01 00:00:00</th>\n",
       "      <th>...</th>\n",
       "      <th>2023-02-01 00:00:00</th>\n",
       "      <th>2023-03-01 00:00:00</th>\n",
       "      <th>2023-04-01 00:00:00</th>\n",
       "      <th>2023-05-01 00:00:00</th>\n",
       "      <th>2023-06-01 00:00:00</th>\n",
       "      <th>2023-07-01 00:00:00</th>\n",
       "      <th>2023-08-01 00:00:00</th>\n",
       "      <th>2023-09-01 00:00:00</th>\n",
       "      <th>2023-10-01 00:00:00</th>\n",
       "      <th>2023-11-01 00:00:00</th>\n",
       "    </tr>\n",
       "  </thead>\n",
       "  <tbody>\n",
       "    <tr>\n",
       "      <th>1</th>\n",
       "      <td>City of London</td>\n",
       "      <td>E09000001</td>\n",
       "      <td>91448.98487</td>\n",
       "      <td>82202.77314</td>\n",
       "      <td>79120.70256</td>\n",
       "      <td>77101.20804</td>\n",
       "      <td>84409.14932</td>\n",
       "      <td>94900.51244</td>\n",
       "      <td>110128.0423</td>\n",
       "      <td>112329.4376</td>\n",
       "      <td>...</td>\n",
       "      <td>863617</td>\n",
       "      <td>925703</td>\n",
       "      <td>899500</td>\n",
       "      <td>959254</td>\n",
       "      <td>994766</td>\n",
       "      <td>973133</td>\n",
       "      <td>901625</td>\n",
       "      <td>875029</td>\n",
       "      <td>831708</td>\n",
       "      <td>727023</td>\n",
       "    </tr>\n",
       "    <tr>\n",
       "      <th>2</th>\n",
       "      <td>Barking &amp; Dagenham</td>\n",
       "      <td>E09000002</td>\n",
       "      <td>50460.2266</td>\n",
       "      <td>51085.77983</td>\n",
       "      <td>51268.96956</td>\n",
       "      <td>53133.50526</td>\n",
       "      <td>53042.24852</td>\n",
       "      <td>53700.34831</td>\n",
       "      <td>52113.12157</td>\n",
       "      <td>52232.19868</td>\n",
       "      <td>...</td>\n",
       "      <td>345817</td>\n",
       "      <td>344085</td>\n",
       "      <td>346762</td>\n",
       "      <td>347252</td>\n",
       "      <td>343807</td>\n",
       "      <td>341446</td>\n",
       "      <td>341710</td>\n",
       "      <td>339983</td>\n",
       "      <td>341370</td>\n",
       "      <td>353585</td>\n",
       "    </tr>\n",
       "    <tr>\n",
       "      <th>3</th>\n",
       "      <td>Barnet</td>\n",
       "      <td>E09000003</td>\n",
       "      <td>93284.51832</td>\n",
       "      <td>93190.16963</td>\n",
       "      <td>92247.52435</td>\n",
       "      <td>90762.87492</td>\n",
       "      <td>90258.00033</td>\n",
       "      <td>90107.23471</td>\n",
       "      <td>91441.24768</td>\n",
       "      <td>92361.31512</td>\n",
       "      <td>...</td>\n",
       "      <td>602916</td>\n",
       "      <td>596553</td>\n",
       "      <td>586098</td>\n",
       "      <td>570759</td>\n",
       "      <td>569322</td>\n",
       "      <td>575129</td>\n",
       "      <td>585896</td>\n",
       "      <td>586665</td>\n",
       "      <td>579777</td>\n",
       "      <td>581265</td>\n",
       "    </tr>\n",
       "    <tr>\n",
       "      <th>4</th>\n",
       "      <td>Bexley</td>\n",
       "      <td>E09000004</td>\n",
       "      <td>64958.09036</td>\n",
       "      <td>64787.92069</td>\n",
       "      <td>64367.49344</td>\n",
       "      <td>64277.66881</td>\n",
       "      <td>63997.13588</td>\n",
       "      <td>64252.32335</td>\n",
       "      <td>63722.70055</td>\n",
       "      <td>64432.60005</td>\n",
       "      <td>...</td>\n",
       "      <td>400260</td>\n",
       "      <td>395674</td>\n",
       "      <td>393908</td>\n",
       "      <td>387134</td>\n",
       "      <td>385075</td>\n",
       "      <td>387566</td>\n",
       "      <td>386939</td>\n",
       "      <td>388778</td>\n",
       "      <td>385477</td>\n",
       "      <td>381785</td>\n",
       "    </tr>\n",
       "    <tr>\n",
       "      <th>5</th>\n",
       "      <td>Brent</td>\n",
       "      <td>E09000005</td>\n",
       "      <td>71306.56698</td>\n",
       "      <td>72022.26197</td>\n",
       "      <td>72015.76274</td>\n",
       "      <td>72965.63094</td>\n",
       "      <td>73704.04743</td>\n",
       "      <td>74310.48167</td>\n",
       "      <td>74127.03788</td>\n",
       "      <td>73547.0411</td>\n",
       "      <td>...</td>\n",
       "      <td>533533</td>\n",
       "      <td>527468</td>\n",
       "      <td>528340</td>\n",
       "      <td>525984</td>\n",
       "      <td>526845</td>\n",
       "      <td>521706</td>\n",
       "      <td>546948</td>\n",
       "      <td>550526</td>\n",
       "      <td>552639</td>\n",
       "      <td>535808</td>\n",
       "    </tr>\n",
       "  </tbody>\n",
       "</table>\n",
       "<p>5 rows × 349 columns</p>\n",
       "</div>"
      ],
      "text/plain": [
       "0            Location         ID 1995-01-01 00:00:00 1995-02-01 00:00:00  \\\n",
       "1      City of London  E09000001         91448.98487         82202.77314   \n",
       "2  Barking & Dagenham  E09000002          50460.2266         51085.77983   \n",
       "3              Barnet  E09000003         93284.51832         93190.16963   \n",
       "4              Bexley  E09000004         64958.09036         64787.92069   \n",
       "5               Brent  E09000005         71306.56698         72022.26197   \n",
       "\n",
       "0 1995-03-01 00:00:00 1995-04-01 00:00:00 1995-05-01 00:00:00  \\\n",
       "1         79120.70256         77101.20804         84409.14932   \n",
       "2         51268.96956         53133.50526         53042.24852   \n",
       "3         92247.52435         90762.87492         90258.00033   \n",
       "4         64367.49344         64277.66881         63997.13588   \n",
       "5         72015.76274         72965.63094         73704.04743   \n",
       "\n",
       "0 1995-06-01 00:00:00 1995-07-01 00:00:00 1995-08-01 00:00:00  ...  \\\n",
       "1         94900.51244         110128.0423         112329.4376  ...   \n",
       "2         53700.34831         52113.12157         52232.19868  ...   \n",
       "3         90107.23471         91441.24768         92361.31512  ...   \n",
       "4         64252.32335         63722.70055         64432.60005  ...   \n",
       "5         74310.48167         74127.03788          73547.0411  ...   \n",
       "\n",
       "0 2023-02-01 00:00:00 2023-03-01 00:00:00 2023-04-01 00:00:00  \\\n",
       "1              863617              925703              899500   \n",
       "2              345817              344085              346762   \n",
       "3              602916              596553              586098   \n",
       "4              400260              395674              393908   \n",
       "5              533533              527468              528340   \n",
       "\n",
       "0 2023-05-01 00:00:00 2023-06-01 00:00:00 2023-07-01 00:00:00  \\\n",
       "1              959254              994766              973133   \n",
       "2              347252              343807              341446   \n",
       "3              570759              569322              575129   \n",
       "4              387134              385075              387566   \n",
       "5              525984              526845              521706   \n",
       "\n",
       "0 2023-08-01 00:00:00 2023-09-01 00:00:00 2023-10-01 00:00:00  \\\n",
       "1              901625              875029              831708   \n",
       "2              341710              339983              341370   \n",
       "3              585896              586665              579777   \n",
       "4              386939              388778              385477   \n",
       "5              546948              550526              552639   \n",
       "\n",
       "0 2023-11-01 00:00:00  \n",
       "1              727023  \n",
       "2              353585  \n",
       "3              581265  \n",
       "4              381785  \n",
       "5              535808  \n",
       "\n",
       "[5 rows x 349 columns]"
      ]
     },
     "execution_count": 22,
     "metadata": {},
     "output_type": "execute_result"
    }
   ],
   "source": [
    "#renaming columns using rename method\n",
    "properties_new = properties_T_1.rename(columns = {'Unnamed: 0' : 'Location', pd.NaT : 'ID'})\n",
    "properties_new.head()\n"
   ]
  },
  {
   "cell_type": "markdown",
   "metadata": {
    "colab_type": "text",
    "id": "jy8BzXHmoWEw"
   },
   "source": [
    "**2.4.Transforming the data**\n",
    "\n",
    "Remember what Wes McKinney said about tidy data? \n",
    "\n",
    "You might need to **melt** your DataFrame here. "
   ]
  },
  {
   "cell_type": "code",
   "execution_count": 23,
   "metadata": {
    "colab": {},
    "colab_type": "code",
    "id": "S2wM0qLuo2Zt"
   },
   "outputs": [],
   "source": [
    "# changing data frame to be in long instead of short format\n",
    "properties_melted = pd.melt(properties_new, id_vars=['Location', 'ID'])\n",
    "\n",
    "\n",
    "\n"
   ]
  },
  {
   "cell_type": "code",
   "execution_count": 24,
   "metadata": {},
   "outputs": [
    {
     "name": "stdout",
     "output_type": "stream",
     "text": [
      "Location                 object\n",
      "ID                       object\n",
      "Month            datetime64[ns]\n",
      "Average_price            object\n",
      "dtype: object\n"
     ]
    },
    {
     "data": {
      "text/html": [
       "<div>\n",
       "<style scoped>\n",
       "    .dataframe tbody tr th:only-of-type {\n",
       "        vertical-align: middle;\n",
       "    }\n",
       "\n",
       "    .dataframe tbody tr th {\n",
       "        vertical-align: top;\n",
       "    }\n",
       "\n",
       "    .dataframe thead th {\n",
       "        text-align: right;\n",
       "    }\n",
       "</style>\n",
       "<table border=\"1\" class=\"dataframe\">\n",
       "  <thead>\n",
       "    <tr style=\"text-align: right;\">\n",
       "      <th></th>\n",
       "      <th>Location</th>\n",
       "      <th>ID</th>\n",
       "      <th>Month</th>\n",
       "      <th>Average_price</th>\n",
       "    </tr>\n",
       "  </thead>\n",
       "  <tbody>\n",
       "    <tr>\n",
       "      <th>0</th>\n",
       "      <td>City of London</td>\n",
       "      <td>E09000001</td>\n",
       "      <td>1995-01-01</td>\n",
       "      <td>91448.98487</td>\n",
       "    </tr>\n",
       "    <tr>\n",
       "      <th>1</th>\n",
       "      <td>Barking &amp; Dagenham</td>\n",
       "      <td>E09000002</td>\n",
       "      <td>1995-01-01</td>\n",
       "      <td>50460.2266</td>\n",
       "    </tr>\n",
       "    <tr>\n",
       "      <th>2</th>\n",
       "      <td>Barnet</td>\n",
       "      <td>E09000003</td>\n",
       "      <td>1995-01-01</td>\n",
       "      <td>93284.51832</td>\n",
       "    </tr>\n",
       "    <tr>\n",
       "      <th>3</th>\n",
       "      <td>Bexley</td>\n",
       "      <td>E09000004</td>\n",
       "      <td>1995-01-01</td>\n",
       "      <td>64958.09036</td>\n",
       "    </tr>\n",
       "    <tr>\n",
       "      <th>4</th>\n",
       "      <td>Brent</td>\n",
       "      <td>E09000005</td>\n",
       "      <td>1995-01-01</td>\n",
       "      <td>71306.56698</td>\n",
       "    </tr>\n",
       "  </tbody>\n",
       "</table>\n",
       "</div>"
      ],
      "text/plain": [
       "             Location         ID      Month Average_price\n",
       "0      City of London  E09000001 1995-01-01   91448.98487\n",
       "1  Barking & Dagenham  E09000002 1995-01-01    50460.2266\n",
       "2              Barnet  E09000003 1995-01-01   93284.51832\n",
       "3              Bexley  E09000004 1995-01-01   64958.09036\n",
       "4               Brent  E09000005 1995-01-01   71306.56698"
      ]
     },
     "execution_count": 24,
     "metadata": {},
     "output_type": "execute_result"
    }
   ],
   "source": [
    "#changing ID to month and value to Average_price\n",
    "properties_melted = properties_melted.rename(columns = {0:'Month', 'value':'Average_price'})\n",
    "properties_melted.head()\n",
    "\n",
    "#checking data types\n",
    "print(properties_melted.dtypes)\n",
    "\n",
    "properties_melted.head()\n"
   ]
  },
  {
   "cell_type": "markdown",
   "metadata": {
    "colab_type": "text",
    "id": "7kIsgAo7o3mf"
   },
   "source": [
    "Remember to make sure your column data types are all correct. Average prices, for example, should be floating point numbers... "
   ]
  },
  {
   "cell_type": "code",
   "execution_count": 25,
   "metadata": {
    "colab": {},
    "colab_type": "code",
    "id": "ZcR4IHbcpOaq"
   },
   "outputs": [
    {
     "name": "stdout",
     "output_type": "stream",
     "text": [
      "Location                 object\n",
      "ID                       object\n",
      "Month            datetime64[ns]\n",
      "Average_price           float64\n",
      "dtype: object\n"
     ]
    }
   ],
   "source": [
    "#converting average price to floats\n",
    "properties_melted['Average_price'] = properties_melted['Average_price'].astype(float)\n",
    "\n",
    "\n",
    "\n",
    "# Check data types\n",
    "print(properties_melted.dtypes)\n",
    "\n",
    "\n",
    "\n",
    "\n",
    "\n",
    "\n",
    "\n",
    "\n"
   ]
  },
  {
   "cell_type": "markdown",
   "metadata": {
    "colab_type": "text",
    "id": "knLUXHLypOtw"
   },
   "source": [
    "**2.5. Cleaning the data (part 3)**\n",
    "\n",
    "Do we have an equal number of observations in the ID, Average Price, Month, and London Borough columns? Remember that there are only 32 London Boroughs. How many entries do you have in that column? \n",
    "\n",
    "Check out the contents of the London Borough column, and if you find null values, get rid of them however you see fit. "
   ]
  },
  {
   "cell_type": "code",
   "execution_count": 26,
   "metadata": {
    "colab": {},
    "colab_type": "code",
    "id": "BnvTW5a3p0fC"
   },
   "outputs": [
    {
     "name": "stdout",
     "output_type": "stream",
     "text": [
      "Location         16656\n",
      "ID               15615\n",
      "Month            16656\n",
      "Average_price    15615\n",
      "dtype: int64\n",
      "['City of London' 'Barking & Dagenham' 'Barnet' 'Bexley' 'Brent' 'Bromley'\n",
      " 'Camden' 'Croydon' 'Ealing' 'Enfield' 'Greenwich' 'Hackney'\n",
      " 'Hammersmith & Fulham' 'Haringey' 'Harrow' 'Havering' 'Hillingdon'\n",
      " 'Hounslow' 'Islington' 'Kensington & Chelsea' 'Kingston upon Thames'\n",
      " 'Lambeth' 'Lewisham' 'Merton' 'Newham' 'Redbridge' 'Richmond upon Thames'\n",
      " 'Southwark' 'Sutton' 'Tower Hamlets' 'Waltham Forest' 'Wandsworth'\n",
      " 'Westminster' 'Unnamed: 34' 'Inner London' 'Outer London' 'Unnamed: 37'\n",
      " 'NORTH EAST' 'NORTH WEST' 'YORKS & THE HUMBER' 'EAST MIDLANDS'\n",
      " 'WEST MIDLANDS' 'EAST OF ENGLAND' 'LONDON' 'SOUTH EAST' 'SOUTH WEST'\n",
      " 'Unnamed: 47' 'England']\n",
      "Location         15615\n",
      "ID               15615\n",
      "Month            15615\n",
      "Average_price    15615\n",
      "dtype: int64\n",
      "['City of London' 'Barking & Dagenham' 'Barnet' 'Bexley' 'Brent' 'Bromley'\n",
      " 'Camden' 'Croydon' 'Ealing' 'Enfield' 'Greenwich' 'Hackney'\n",
      " 'Hammersmith & Fulham' 'Haringey' 'Harrow' 'Havering' 'Hillingdon'\n",
      " 'Hounslow' 'Islington' 'Kensington & Chelsea' 'Kingston upon Thames'\n",
      " 'Lambeth' 'Lewisham' 'Merton' 'Newham' 'Redbridge' 'Richmond upon Thames'\n",
      " 'Southwark' 'Sutton' 'Tower Hamlets' 'Waltham Forest' 'Wandsworth'\n",
      " 'Westminster']\n",
      "float64\n"
     ]
    }
   ],
   "source": [
    "#Checking to see how many observations are present in each column\n",
    "print(properties_melted.count())\n",
    "\n",
    "print(properties_melted['Location'].unique())\n",
    "\n",
    "#There are 47 items listed but only 32 boroughs\n",
    "#The string that are not london boroughs are: Unnamed 34, Unnamed 37, Unnamed 47, North East, North West, South East, South West, Yorks and the Humber, East Midlands, West midlands, East of England, London, England\n",
    "\n",
    "#Dropping null values from df\n",
    "properties_dropNa = properties_melted.dropna()\n",
    "properties_dropNa.head()\n",
    "print(properties_dropNa.count()) #now all columns have the same number of items\n",
    "\n",
    "\n",
    "#dropping the rest of the non boroughs\n",
    "nonBoroughs= ['Inner London', 'Outer London', \n",
    "               'NORTH EAST', 'NORTH WEST', 'YORKS & THE HUMBER', \n",
    "               'EAST MIDLANDS', 'WEST MIDLANDS',\n",
    "              'EAST OF ENGLAND', 'LONDON', 'SOUTH EAST', \n",
    "              'SOUTH WEST', 'England', 'Unnamed: 34', 'Unnamed: 37','Unnamed: 47']\n",
    "\n",
    "\n",
    "#filtering the buroughs from the nonborough list\n",
    "properties_dropNa[properties_dropNa['Location'].isin(nonBoroughs)]\n",
    "properties_dropNa[~properties_dropNa['Location'].isin(nonBoroughs)]\n",
    "properties_dropNa = properties_dropNa[~properties_dropNa['Location'].isin(nonBoroughs)]\n",
    "properties_dropNa.head()\n",
    "\n",
    "#confirming that all non boroughs have been dropped \n",
    "print(properties_dropNa['Location'].unique())\n",
    "\n",
    "\n",
    "# final/analysis-ready data frame\n",
    "df = properties_dropNa\n",
    "df.tail()\n",
    "\n",
    "\n",
    "print(df['Average_price'].dtype)\n",
    "\n",
    "\n",
    "\n",
    "\n",
    "\n",
    "\n",
    "\n",
    "\n",
    "\n",
    "\n",
    "\n"
   ]
  },
  {
   "cell_type": "markdown",
   "metadata": {
    "colab_type": "text",
    "id": "PGEx6mJsp6dG"
   },
   "source": [
    "**2.6. Visualizing the data**\n",
    "\n",
    "To visualize the data, why not subset on a particular London Borough? Maybe do a line plot of Month against Average Price?"
   ]
  },
  {
   "cell_type": "code",
   "execution_count": 27,
   "metadata": {
    "colab": {},
    "colab_type": "code",
    "id": "nAg5pT9cqHAR"
   },
   "outputs": [
    {
     "data": {
      "image/png": "[encoded data removed]",
      "text/plain": [
       "<Figure size 640x480 with 1 Axes>"
      ]
     },
     "metadata": {},
     "output_type": "display_data"
    }
   ],
   "source": [
    "#variable made for Waltham Forest\n",
    "waltham_prices = df[df['Location'] == 'Waltham Forest']\n",
    "\n",
    "waltham = waltham_prices.plot(kind='line', x='Month', y='Average_price')\n",
    "\n",
    "waltham.set_ylabel('Price')\n",
    "\n",
    "plt.show()\n",
    "\n"
   ]
  },
  {
   "cell_type": "markdown",
   "metadata": {
    "colab_type": "text",
    "id": "aWTPqSJeqHnC"
   },
   "source": [
    "To limit the number of data points you have, you might want to extract the year from every month value your *Month* column. \n",
    "\n",
    "To this end, you *could* apply a ***lambda function***. Your logic could work as follows:\n",
    "1. look through the `Month` column\n",
    "2. extract the year from each individual value in that column \n",
    "3. store that corresponding year as separate column. \n",
    "\n",
    "Whether you go ahead with this is up to you. Just so long as you answer our initial brief: which boroughs of London have seen the greatest house price increase, on average, over the past two decades? "
   ]
  },
  {
   "cell_type": "code",
   "execution_count": 11,
   "metadata": {},
   "outputs": [
    {
     "data": {
      "text/plain": [
       "Location                 object\n",
       "ID                       object\n",
       "Month            datetime64[ns]\n",
       "Average_price           float64\n",
       "dtype: object"
      ]
     },
     "execution_count": 11,
     "metadata": {},
     "output_type": "execute_result"
    }
   ],
   "source": [
    "df.dtypes\n"
   ]
  },
  {
   "cell_type": "code",
   "execution_count": 28,
   "metadata": {
    "colab": {},
    "colab_type": "code",
    "id": "e0DF92cyqnu8",
    "scrolled": true
   },
   "outputs": [
    {
     "data": {
      "text/plain": [
       "0        1995\n",
       "1        1995\n",
       "2        1995\n",
       "3        1995\n",
       "4        1995\n",
       "         ... \n",
       "16636    2023\n",
       "16637    2023\n",
       "16638    2023\n",
       "16639    2023\n",
       "16640    2023\n",
       "Name: Year, Length: 11451, dtype: int64"
      ]
     },
     "execution_count": 28,
     "metadata": {},
     "output_type": "execute_result"
    }
   ],
   "source": [
    "#create  new column'Year' in the DataFrame df, \n",
    "#where each entry in the 'Year' column corresponds to the year extracted from the corresponding 'Month' entry.\n",
    "\n",
    "df['Year'] = df['Month'].apply(lambda t:t.year)\n",
    "\n",
    "\n",
    "df.tail()\n",
    "\n",
    "\n",
    "\n",
    "df['Year'].astype(int)\n",
    "\n",
    "\n",
    "\n",
    "\n",
    "\n",
    "\n",
    "\n"
   ]
  },
  {
   "cell_type": "code",
   "execution_count": null,
   "metadata": {
    "scrolled": true
   },
   "outputs": [],
   "source": []
  },
  {
   "cell_type": "markdown",
   "metadata": {
    "colab_type": "text",
    "id": "2knuTxAEqoJ4"
   },
   "source": [
    "**3. Modeling**\n",
    "\n",
    "Consider creating a function that will calculate a ratio of house prices, comparing the price of a house in 2018 to the price in 1998.\n",
    "\n",
    "Consider calling this function create_price_ratio.\n",
    "\n",
    "You'd want this function to:\n",
    "1. Take a filter of dfg, specifically where this filter constrains the London_Borough, as an argument. For example, one admissible argument should be: dfg[dfg['London_Borough']=='Camden'].\n",
    "2. Get the Average Price for that Borough, for the years 1998 and 2018.\n",
    "4. Calculate the ratio of the Average Price for 1998 divided by the Average Price for 2018.\n",
    "5. Return that ratio.\n",
    "\n",
    "Once you've written this function, you ultimately want to use it to iterate through all the unique London_Boroughs and work out the ratio capturing the difference of house prices between 1998 and 2018.\n",
    "\n",
    "Bear in mind: you don't have to write a function like this if you don't want to. If you can solve the brief otherwise, then great! \n",
    "\n",
    "***Hint***: This section should test the skills you acquired in:\n",
    "- Python Data Science Toolbox - Part One, all modules"
   ]
  },
  {
   "cell_type": "code",
   "execution_count": null,
   "metadata": {
    "colab": {},
    "colab_type": "code",
    "id": "cKTyr437UgDa"
   },
   "outputs": [],
   "source": []
  },
  {
   "cell_type": "code",
   "execution_count": 29,
   "metadata": {},
   "outputs": [
    {
     "name": "stdout",
     "output_type": "stream",
     "text": [
      "{'City of London': 6.4489342262502936, 'Barking & Dagenham': 5.065200727637316, 'Barnet': 4.588620687209297, 'Bexley': 4.450693857748208, 'Brent': 5.268305248462912, 'Bromley': 4.365142256671085, 'Camden': 5.085970462967904, 'Croydon': 4.39860829674739, 'Ealing': 4.402776427963303, 'Enfield': 4.3652652856612875, 'Greenwich': 5.029097910870449, 'Hackney': 6.60618111471362, 'Hammersmith & Fulham': 4.306811985787434, 'Haringey': 5.429422165523505, 'Harrow': 4.3523426874433815, 'Havering': 4.473964938973649, 'Hillingdon': 4.320408655298873, 'Hounslow': 4.312728547536392, 'Islington': 5.313813485384828, 'Kensington & Chelsea': 5.4355361559892525, 'Kingston upon Thames': 4.336293747221511, 'Lambeth': 5.343118262736608, 'Lewisham': 5.62638251811949, 'Merton': 4.7530336255067995, 'Newham': 5.292328245003685, 'Redbridge': 4.603885081351279, 'Richmond upon Thames': 4.197799374106301, 'Southwark': 5.970622084200447, 'Sutton': 4.18507774622941, 'Tower Hamlets': 4.964402212089619, 'Waltham Forest': 6.0783882118963755, 'Wandsworth': 4.97978830730259, 'Westminster': 6.216935568301393}\n"
     ]
    }
   ],
   "source": [
    "# Filter DataFrame for the specific 'Location' and the years 1998 and 2018\n",
    "# Extract Average_price values for the years 1998 and 2018\n",
    "def price_ratio(location):\n",
    "    subset_df = df[df['Location'] == location]\n",
    "    y1998 = float(subset_df.loc[subset_df['Year'] == 1998, 'Average_price'].iloc[0])\n",
    "    y2018 = float(subset_df.loc[subset_df['Year'] == 2018, 'Average_price'].iloc[0])\n",
    "    ratio = y2018 / y1998\n",
    "    return ratio\n",
    "\n",
    "#create empty dictionary to return values from for loop below\n",
    "final = {}\n",
    "\n",
    "#for loop to run function and results stored in dictionary\n",
    "for location in df['Location'].unique():\n",
    "    final[location] = price_ratio(location)\n",
    "\n",
    "print(final)\n",
    "\n",
    "\n",
    "\n",
    "\n",
    "\n",
    "#In summary the code above calculates the ratio of average prices for each unique location in the 'Location' \n",
    "#column of your DataFrame, comparing the year 1998 to 2018. \n",
    "#The results are stored in a dictionary (final).\n",
    "\n",
    "\n",
    "\n"
   ]
  },
  {
   "cell_type": "code",
   "execution_count": 30,
   "metadata": {},
   "outputs": [
    {
     "name": "stdout",
     "output_type": "stream",
     "text": [
      "                       Ratio\n",
      "Location                    \n",
      "City of London      6.448934\n",
      "Barking & Dagenham  5.065201\n",
      "Barnet              4.588621\n",
      "Bexley              4.450694\n",
      "Brent               5.268305\n"
     ]
    }
   ],
   "source": [
    "#converts a dictionary (final) into a DataFrame where each key becomes a row, and the values become the 'Ratio' column. \n",
    "#The 'Location' column is set as the index for the DataFrame\n",
    "df_ratios = pd.DataFrame(list(final.items()), columns=['Location', 'Ratio']).set_index('Location')\n",
    "\n",
    "\n",
    "print(df_ratios.head())\n",
    "\n"
   ]
  },
  {
   "cell_type": "code",
   "execution_count": null,
   "metadata": {},
   "outputs": [],
   "source": []
  },
  {
   "cell_type": "code",
   "execution_count": 31,
   "metadata": {},
   "outputs": [
    {
     "name": "stdout",
     "output_type": "stream",
     "text": [
      "                         Ratio\n",
      "Location                      \n",
      "Hackney               6.606181\n",
      "City of London        6.448934\n",
      "Westminster           6.216936\n",
      "Waltham Forest        6.078388\n",
      "Southwark             5.970622\n",
      "Lewisham              5.626383\n",
      "Kensington & Chelsea  5.435536\n",
      "Haringey              5.429422\n",
      "Lambeth               5.343118\n",
      "Islington             5.313813\n",
      "Newham                5.292328\n",
      "Brent                 5.268305\n",
      "Camden                5.085970\n",
      "Barking & Dagenham    5.065201\n",
      "Greenwich             5.029098\n"
     ]
    }
   ],
   "source": [
    "# sort in descending order and select the top 15 boroughs.\n",
    "top15 = df_ratios.sort_values(by='Ratio',ascending=False).head(15)\n",
    "print(top15)\n"
   ]
  },
  {
   "cell_type": "code",
   "execution_count": 32,
   "metadata": {},
   "outputs": [
    {
     "data": {
      "text/plain": [
       "[Text(0, 0, 'Hackney'),\n",
       " Text(1, 0, 'City of London'),\n",
       " Text(2, 0, 'Westminster'),\n",
       " Text(3, 0, 'Waltham Forest'),\n",
       " Text(4, 0, 'Southwark'),\n",
       " Text(5, 0, 'Lewisham'),\n",
       " Text(6, 0, 'Kensington & Chelsea'),\n",
       " Text(7, 0, 'Haringey'),\n",
       " Text(8, 0, 'Lambeth'),\n",
       " Text(9, 0, 'Islington'),\n",
       " Text(10, 0, 'Newham'),\n",
       " Text(11, 0, 'Brent'),\n",
       " Text(12, 0, 'Camden'),\n",
       " Text(13, 0, 'Barking & Dagenham'),\n",
       " Text(14, 0, 'Greenwich')]"
      ]
     },
     "execution_count": 32,
     "metadata": {},
     "output_type": "execute_result"
    },
    {
     "data": {
      "image/png": "[encoded data removed]",
      "text/plain": [
       "<Figure size 640x480 with 1 Axes>"
      ]
     },
     "metadata": {},
     "output_type": "display_data"
    }
   ],
   "source": [
    "ax = top15[['Ratio']].plot(kind='bar')\n",
    "ax.set_xticklabels(top15.index)\n",
    "\n",
    "\n"
   ]
  },
  {
   "cell_type": "markdown",
   "metadata": {
    "colab_type": "text",
    "id": "NzYUI7FxJpgv"
   },
   "source": [
    "### 4. Conclusion\n",
    "What can you conclude? Type out your conclusion below. \n",
    "\n",
    "Look back at your notebook. Think about how you might summarize what you have done, and prepare a quick presentation on it to your mentor at your next meeting. \n",
    "\n",
    "We hope you enjoyed this practical project. It should have consolidated your data hygiene and pandas skills by looking at a real-world problem involving just the kind of dataset you might encounter as a budding data scientist. Congratulations, and looking forward to seeing you at the next step in the course! "
   ]
  },
  {
   "cell_type": "code",
   "execution_count": 33,
   "metadata": {},
   "outputs": [],
   "source": [
    "#Hackney had the most growth over the past two decades. "
   ]
  },
  {
   "cell_type": "code",
   "execution_count": null,
   "metadata": {},
   "outputs": [],
   "source": []
  }
 ],
 "metadata": {
  "colab": {
   "collapsed_sections": [],
   "name": "Springboard Data Science Career Track Unit 4 Challenge - Tier 3 Complete .ipynb",
   "provenance": []
  },
  "kernelspec": {
   "display_name": "Python 3 (ipykernel)",
   "language": "python",
   "name": "python3"
  },
  "language_info": {
   "codemirror_mode": {
    "name": "ipython",
    "version": 3
   },
   "file_extension": ".py",
   "mimetype": "text/x-python",
   "name": "python",
   "nbconvert_exporter": "python",
   "pygments_lexer": "ipython3",
   "version": "3.11.5"
  }
 },
 "nbformat": 4,
 "nbformat_minor": 1
}
