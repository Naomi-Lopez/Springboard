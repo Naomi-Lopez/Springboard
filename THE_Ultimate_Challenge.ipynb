{
  "nbformat": 4,
  "nbformat_minor": 0,
  "metadata": {
    "colab": {
      "provenance": [],
      "mount_file_id": "1l_S3nYZu3giiw8P9GgBBK9CbQALpT_Iy",
      "authorship_tag": "ABX9TyOO6QZ505B8mNkoXje+XPJ+",
      "include_colab_link": true
    },
    "kernelspec": {
      "name": "python3",
      "display_name": "Python 3"
    },
    "language_info": {
      "name": "python"
    }
  },
  "cells": [
    {
      "cell_type": "markdown",
      "metadata": {
        "id": "view-in-github",
        "colab_type": "text"
      },
      "source": [
        "<a href=\"https://colab.research.google.com/github/Naomi-Lopez/Springboard/blob/main/THE_Ultimate_Challenge.ipynb\" target=\"_parent\"><img src=\"https://colab.research.google.com/assets/colab-badge.svg\" alt=\"Open In Colab\"/></a>"
      ]
    },
    {
      "cell_type": "markdown",
      "source": [
        "# Part 1: Data Importing & Exploratory Data Analysis\n",
        "\n",
        "\n",
        "\n",
        "\n"
      ],
      "metadata": {
        "id": "J-ynhInLklES"
      }
    },
    {
      "cell_type": "markdown",
      "source": [
        "#### Importing Login Data"
      ],
      "metadata": {
        "id": "Bq6epe-2kjc2"
      }
    },
    {
      "cell_type": "code",
      "source": [
        "from google.colab import drive\n",
        "drive.mount('/content/drive')\n",
        "\n",
        "file_path = '/content/drive/MyDrive/ultimate_challenge/logins.json'\n",
        "\n",
        "import pandas as pd\n",
        "\n",
        "logins = pd.read_json(file_path)"
      ],
      "metadata": {
        "colab": {
          "base_uri": "https://localhost:8080/"
        },
        "id": "z9w8cM1O-k9m",
        "outputId": "a3413b32-7519-481e-ec5b-991691dafc00"
      },
      "execution_count": 29,
      "outputs": [
        {
          "output_type": "stream",
          "name": "stdout",
          "text": [
            "Drive already mounted at /content/drive; to attempt to forcibly remount, call drive.mount(\"/content/drive\", force_remount=True).\n"
          ]
        }
      ]
    },
    {
      "cell_type": "code",
      "source": [
        "import pandas as pd\n",
        "import numpy as np\n",
        "import matplotlib.pyplot as plt\n",
        "import datetime as dt\n",
        "import seaborn as sns\n",
        "from sklearn.cluster import KMeans\n",
        "from sklearn.preprocessing import StandardScaler\n",
        "from sklearn.decomposition import PCA\n",
        "from sklearn.metrics import silhouette_score\n",
        "from statsmodels.tsa.seasonal import seasonal_decompose\n",
        "from sklearn.model_selection import train_test_split, GridSearchCV\n",
        "from sklearn.ensemble import RandomForestClassifier\n",
        "from sklearn.metrics import classification_report, confusion_matrix\n",
        "from sklearn.preprocessing import StandardScaler\n",
        "\n",
        "import warnings\n",
        "warnings.simplefilter(action='ignore',category=FutureWarning)"
      ],
      "metadata": {
        "id": "jHyDet87A201"
      },
      "execution_count": 30,
      "outputs": []
    },
    {
      "cell_type": "code",
      "source": [
        "print(logins.head())\n",
        "\n"
      ],
      "metadata": {
        "colab": {
          "base_uri": "https://localhost:8080/"
        },
        "id": "K1PCs0f7Ajwn",
        "outputId": "c6604f2c-9633-42b0-ca4c-af2a5f3d8b97"
      },
      "execution_count": 31,
      "outputs": [
        {
          "output_type": "stream",
          "name": "stdout",
          "text": [
            "           login_time\n",
            "0 1970-01-01 20:13:18\n",
            "1 1970-01-01 20:16:10\n",
            "2 1970-01-01 20:16:37\n",
            "3 1970-01-01 20:16:36\n",
            "4 1970-01-01 20:26:21\n"
          ]
        }
      ]
    },
    {
      "cell_type": "code",
      "source": [
        "print(logins.columns)\n",
        "\n"
      ],
      "metadata": {
        "colab": {
          "base_uri": "https://localhost:8080/"
        },
        "id": "0V2NQscMApP0",
        "outputId": "2a750d17-e628-4b27-8849-ddf1bd4fa10b"
      },
      "execution_count": 32,
      "outputs": [
        {
          "output_type": "stream",
          "name": "stdout",
          "text": [
            "Index(['login_time'], dtype='object')\n"
          ]
        }
      ]
    },
    {
      "cell_type": "code",
      "source": [
        "print(type(logins))"
      ],
      "metadata": {
        "colab": {
          "base_uri": "https://localhost:8080/"
        },
        "id": "2N1V4R1kesen",
        "outputId": "cad374d7-ef22-4a38-ca49-ea8fcad34c1f"
      },
      "execution_count": 33,
      "outputs": [
        {
          "output_type": "stream",
          "name": "stdout",
          "text": [
            "<class 'pandas.core.frame.DataFrame'>\n"
          ]
        }
      ]
    },
    {
      "cell_type": "code",
      "source": [
        "\n",
        "if isinstance(logins, pd.Series):\n",
        "    logins = logins.to_frame(name='login_time')\n",
        "\n",
        "print(logins.head())\n",
        "print(\"Column names in logins DataFrame:\", logins.columns)\n",
        "\n",
        "if 'login_time' in logins.columns:\n",
        "  logins['login_time'] = pd.to_datetime(logins['login_time'], errors='coerce')\n",
        "  print(\"Converted 'login_time' to datetime.\")\n",
        "else:\n",
        "  print(\"'login_time' still does not exist in logins.\")"
      ],
      "metadata": {
        "colab": {
          "base_uri": "https://localhost:8080/"
        },
        "id": "n6tB4yyJfLc3",
        "outputId": "e4c20ad0-e445-45c2-dcc3-c7b34e66a24d"
      },
      "execution_count": 34,
      "outputs": [
        {
          "output_type": "stream",
          "name": "stdout",
          "text": [
            "           login_time\n",
            "0 1970-01-01 20:13:18\n",
            "1 1970-01-01 20:16:10\n",
            "2 1970-01-01 20:16:37\n",
            "3 1970-01-01 20:16:36\n",
            "4 1970-01-01 20:26:21\n",
            "Column names in logins DataFrame: Index(['login_time'], dtype='object')\n",
            "Converted 'login_time' to datetime.\n"
          ]
        }
      ]
    },
    {
      "cell_type": "markdown",
      "source": [
        "Summary: login_time column is currently a datetime object"
      ],
      "metadata": {
        "id": "9WY9Ts3rbOD8"
      }
    },
    {
      "cell_type": "code",
      "source": [
        "if isinstance(logins, pd.DataFrame):\n",
        "  print(\"logins is a DataFrame\")\n",
        "else:\n",
        "  print(\"logins is not a DataFrame\")"
      ],
      "metadata": {
        "colab": {
          "base_uri": "https://localhost:8080/"
        },
        "id": "U63jXRsSb7vQ",
        "outputId": "be5b4b6d-9f63-466f-bb1f-f75ac4d5c127"
      },
      "execution_count": 35,
      "outputs": [
        {
          "output_type": "stream",
          "name": "stdout",
          "text": [
            "logins is a DataFrame\n"
          ]
        }
      ]
    },
    {
      "cell_type": "code",
      "source": [
        "print(\"Column names in logins DataFrame:\", logins.columns.tolist()\n",
        ")\n",
        "\n",
        "if 'login_time' in logins.columns:\n",
        "  print(\"Column 'login_time' exists in logins DataFrame\")\n",
        "else:\n",
        "  print(\"Column 'login_time' does not exist in logins DataFrame\")"
      ],
      "metadata": {
        "colab": {
          "base_uri": "https://localhost:8080/"
        },
        "id": "b_jbTKTucwBo",
        "outputId": "6f2d8bbd-64f4-40d5-e6ff-383c267dbfc9"
      },
      "execution_count": 36,
      "outputs": [
        {
          "output_type": "stream",
          "name": "stdout",
          "text": [
            "Column names in logins DataFrame: ['login_time']\n",
            "Column 'login_time' exists in logins DataFrame\n"
          ]
        }
      ]
    },
    {
      "cell_type": "code",
      "source": [
        "logins.info()\n",
        "\n",
        "print(logins.head())\n",
        "print(logins.tail())"
      ],
      "metadata": {
        "colab": {
          "base_uri": "https://localhost:8080/"
        },
        "id": "feWKfPF5ga9i",
        "outputId": "bf8ffff6-e1c5-46fa-9873-9201c987dae8"
      },
      "execution_count": 37,
      "outputs": [
        {
          "output_type": "stream",
          "name": "stdout",
          "text": [
            "<class 'pandas.core.frame.DataFrame'>\n",
            "RangeIndex: 93142 entries, 0 to 93141\n",
            "Data columns (total 1 columns):\n",
            " #   Column      Non-Null Count  Dtype         \n",
            "---  ------      --------------  -----         \n",
            " 0   login_time  93142 non-null  datetime64[ns]\n",
            "dtypes: datetime64[ns](1)\n",
            "memory usage: 727.8 KB\n",
            "           login_time\n",
            "0 1970-01-01 20:13:18\n",
            "1 1970-01-01 20:16:10\n",
            "2 1970-01-01 20:16:37\n",
            "3 1970-01-01 20:16:36\n",
            "4 1970-01-01 20:26:21\n",
            "               login_time\n",
            "93137 1970-04-13 18:50:19\n",
            "93138 1970-04-13 18:43:56\n",
            "93139 1970-04-13 18:54:02\n",
            "93140 1970-04-13 18:57:38\n",
            "93141 1970-04-13 18:54:23\n"
          ]
        }
      ]
    },
    {
      "cell_type": "code",
      "source": [
        "logins['login_time'] = pd.to_datetime(logins['login_time'])\n",
        "logins.set_index('login_time', inplace=True)\n",
        "\n",
        "logins_resampled = logins.resample('15T').size().reset_index(name='login_count')\n",
        "\n",
        "logins_resampled.set_index('login_time', inplace=True)\n",
        "\n",
        "print(logins_resampled)\n",
        "\n",
        "print(logins_resampled.head())\n",
        "print(logins_resampled.tail())"
      ],
      "metadata": {
        "colab": {
          "base_uri": "https://localhost:8080/"
        },
        "id": "tTWV-ODXjQHD",
        "outputId": "4bc20bb1-d7a1-4cec-9a68-a608d2871a23"
      },
      "execution_count": 38,
      "outputs": [
        {
          "output_type": "stream",
          "name": "stdout",
          "text": [
            "                     login_count\n",
            "login_time                      \n",
            "1970-01-01 20:00:00            2\n",
            "1970-01-01 20:15:00            6\n",
            "1970-01-01 20:30:00            9\n",
            "1970-01-01 20:45:00            7\n",
            "1970-01-01 21:00:00            1\n",
            "...                          ...\n",
            "1970-04-13 17:45:00            5\n",
            "1970-04-13 18:00:00            5\n",
            "1970-04-13 18:15:00            2\n",
            "1970-04-13 18:30:00            7\n",
            "1970-04-13 18:45:00            6\n",
            "\n",
            "[9788 rows x 1 columns]\n",
            "                     login_count\n",
            "login_time                      \n",
            "1970-01-01 20:00:00            2\n",
            "1970-01-01 20:15:00            6\n",
            "1970-01-01 20:30:00            9\n",
            "1970-01-01 20:45:00            7\n",
            "1970-01-01 21:00:00            1\n",
            "                     login_count\n",
            "login_time                      \n",
            "1970-04-13 17:45:00            5\n",
            "1970-04-13 18:00:00            5\n",
            "1970-04-13 18:15:00            2\n",
            "1970-04-13 18:30:00            7\n",
            "1970-04-13 18:45:00            6\n"
          ]
        }
      ]
    },
    {
      "cell_type": "code",
      "source": [
        "logins_resampled.describe()"
      ],
      "metadata": {
        "colab": {
          "base_uri": "https://localhost:8080/",
          "height": 300
        },
        "id": "tz1c-5znghHb",
        "outputId": "91da3915-2c34-4bdb-f87b-0a7db36bcdd8"
      },
      "execution_count": 39,
      "outputs": [
        {
          "output_type": "execute_result",
          "data": {
            "text/plain": [
              "       login_count\n",
              "count  9788.000000\n",
              "mean      9.515938\n",
              "std       8.328818\n",
              "min       0.000000\n",
              "25%       3.000000\n",
              "50%       7.000000\n",
              "75%      13.000000\n",
              "max      73.000000"
            ],
            "text/html": [
              "\n",
              "  <div id=\"df-d9060855-b0f4-41a5-8565-9ad710f80ec4\" class=\"colab-df-container\">\n",
              "    <div>\n",
              "<style scoped>\n",
              "    .dataframe tbody tr th:only-of-type {\n",
              "        vertical-align: middle;\n",
              "    }\n",
              "\n",
              "    .dataframe tbody tr th {\n",
              "        vertical-align: top;\n",
              "    }\n",
              "\n",
              "    .dataframe thead th {\n",
              "        text-align: right;\n",
              "    }\n",
              "</style>\n",
              "<table border=\"1\" class=\"dataframe\">\n",
              "  <thead>\n",
              "    <tr style=\"text-align: right;\">\n",
              "      <th></th>\n",
              "      <th>login_count</th>\n",
              "    </tr>\n",
              "  </thead>\n",
              "  <tbody>\n",
              "    <tr>\n",
              "      <th>count</th>\n",
              "      <td>9788.000000</td>\n",
              "    </tr>\n",
              "    <tr>\n",
              "      <th>mean</th>\n",
              "      <td>9.515938</td>\n",
              "    </tr>\n",
              "    <tr>\n",
              "      <th>std</th>\n",
              "      <td>8.328818</td>\n",
              "    </tr>\n",
              "    <tr>\n",
              "      <th>min</th>\n",
              "      <td>0.000000</td>\n",
              "    </tr>\n",
              "    <tr>\n",
              "      <th>25%</th>\n",
              "      <td>3.000000</td>\n",
              "    </tr>\n",
              "    <tr>\n",
              "      <th>50%</th>\n",
              "      <td>7.000000</td>\n",
              "    </tr>\n",
              "    <tr>\n",
              "      <th>75%</th>\n",
              "      <td>13.000000</td>\n",
              "    </tr>\n",
              "    <tr>\n",
              "      <th>max</th>\n",
              "      <td>73.000000</td>\n",
              "    </tr>\n",
              "  </tbody>\n",
              "</table>\n",
              "</div>\n",
              "    <div class=\"colab-df-buttons\">\n",
              "\n",
              "  <div class=\"colab-df-container\">\n",
              "    <button class=\"colab-df-convert\" onclick=\"convertToInteractive('df-d9060855-b0f4-41a5-8565-9ad710f80ec4')\"\n",
              "            title=\"Convert this dataframe to an interactive table.\"\n",
              "            style=\"display:none;\">\n",
              "\n",
              "  <svg xmlns=\"http://www.w3.org/2000/svg\" height=\"24px\" viewBox=\"0 -960 960 960\">\n",
              "    <path d=\"M120-120v-720h720v720H120Zm60-500h600v-160H180v160Zm220 220h160v-160H400v160Zm0 220h160v-160H400v160ZM180-400h160v-160H180v160Zm440 0h160v-160H620v160ZM180-180h160v-160H180v160Zm440 0h160v-160H620v160Z\"/>\n",
              "  </svg>\n",
              "    </button>\n",
              "\n",
              "  <style>\n",
              "    .colab-df-container {\n",
              "      display:flex;\n",
              "      gap: 12px;\n",
              "    }\n",
              "\n",
              "    .colab-df-convert {\n",
              "      background-color: #E8F0FE;\n",
              "      border: none;\n",
              "      border-radius: 50%;\n",
              "      cursor: pointer;\n",
              "      display: none;\n",
              "      fill: #1967D2;\n",
              "      height: 32px;\n",
              "      padding: 0 0 0 0;\n",
              "      width: 32px;\n",
              "    }\n",
              "\n",
              "    .colab-df-convert:hover {\n",
              "      background-color: #E2EBFA;\n",
              "      box-shadow: 0px 1px 2px rgba(60, 64, 67, 0.3), 0px 1px 3px 1px rgba(60, 64, 67, 0.15);\n",
              "      fill: #174EA6;\n",
              "    }\n",
              "\n",
              "    .colab-df-buttons div {\n",
              "      margin-bottom: 4px;\n",
              "    }\n",
              "\n",
              "    [theme=dark] .colab-df-convert {\n",
              "      background-color: #3B4455;\n",
              "      fill: #D2E3FC;\n",
              "    }\n",
              "\n",
              "    [theme=dark] .colab-df-convert:hover {\n",
              "      background-color: #434B5C;\n",
              "      box-shadow: 0px 1px 3px 1px rgba(0, 0, 0, 0.15);\n",
              "      filter: drop-shadow(0px 1px 2px rgba(0, 0, 0, 0.3));\n",
              "      fill: #FFFFFF;\n",
              "    }\n",
              "  </style>\n",
              "\n",
              "    <script>\n",
              "      const buttonEl =\n",
              "        document.querySelector('#df-d9060855-b0f4-41a5-8565-9ad710f80ec4 button.colab-df-convert');\n",
              "      buttonEl.style.display =\n",
              "        google.colab.kernel.accessAllowed ? 'block' : 'none';\n",
              "\n",
              "      async function convertToInteractive(key) {\n",
              "        const element = document.querySelector('#df-d9060855-b0f4-41a5-8565-9ad710f80ec4');\n",
              "        const dataTable =\n",
              "          await google.colab.kernel.invokeFunction('convertToInteractive',\n",
              "                                                    [key], {});\n",
              "        if (!dataTable) return;\n",
              "\n",
              "        const docLinkHtml = 'Like what you see? Visit the ' +\n",
              "          '<a target=\"_blank\" href=https://colab.research.google.com/notebooks/data_table.ipynb>data table notebook</a>'\n",
              "          + ' to learn more about interactive tables.';\n",
              "        element.innerHTML = '';\n",
              "        dataTable['output_type'] = 'display_data';\n",
              "        await google.colab.output.renderOutput(dataTable, element);\n",
              "        const docLink = document.createElement('div');\n",
              "        docLink.innerHTML = docLinkHtml;\n",
              "        element.appendChild(docLink);\n",
              "      }\n",
              "    </script>\n",
              "  </div>\n",
              "\n",
              "\n",
              "<div id=\"df-149423b3-38b8-43a5-bce4-ede0aad0814c\">\n",
              "  <button class=\"colab-df-quickchart\" onclick=\"quickchart('df-149423b3-38b8-43a5-bce4-ede0aad0814c')\"\n",
              "            title=\"Suggest charts\"\n",
              "            style=\"display:none;\">\n",
              "\n",
              "<svg xmlns=\"http://www.w3.org/2000/svg\" height=\"24px\"viewBox=\"0 0 24 24\"\n",
              "     width=\"24px\">\n",
              "    <g>\n",
              "        <path d=\"M19 3H5c-1.1 0-2 .9-2 2v14c0 1.1.9 2 2 2h14c1.1 0 2-.9 2-2V5c0-1.1-.9-2-2-2zM9 17H7v-7h2v7zm4 0h-2V7h2v10zm4 0h-2v-4h2v4z\"/>\n",
              "    </g>\n",
              "</svg>\n",
              "  </button>\n",
              "\n",
              "<style>\n",
              "  .colab-df-quickchart {\n",
              "      --bg-color: #E8F0FE;\n",
              "      --fill-color: #1967D2;\n",
              "      --hover-bg-color: #E2EBFA;\n",
              "      --hover-fill-color: #174EA6;\n",
              "      --disabled-fill-color: #AAA;\n",
              "      --disabled-bg-color: #DDD;\n",
              "  }\n",
              "\n",
              "  [theme=dark] .colab-df-quickchart {\n",
              "      --bg-color: #3B4455;\n",
              "      --fill-color: #D2E3FC;\n",
              "      --hover-bg-color: #434B5C;\n",
              "      --hover-fill-color: #FFFFFF;\n",
              "      --disabled-bg-color: #3B4455;\n",
              "      --disabled-fill-color: #666;\n",
              "  }\n",
              "\n",
              "  .colab-df-quickchart {\n",
              "    background-color: var(--bg-color);\n",
              "    border: none;\n",
              "    border-radius: 50%;\n",
              "    cursor: pointer;\n",
              "    display: none;\n",
              "    fill: var(--fill-color);\n",
              "    height: 32px;\n",
              "    padding: 0;\n",
              "    width: 32px;\n",
              "  }\n",
              "\n",
              "  .colab-df-quickchart:hover {\n",
              "    background-color: var(--hover-bg-color);\n",
              "    box-shadow: 0 1px 2px rgba(60, 64, 67, 0.3), 0 1px 3px 1px rgba(60, 64, 67, 0.15);\n",
              "    fill: var(--button-hover-fill-color);\n",
              "  }\n",
              "\n",
              "  .colab-df-quickchart-complete:disabled,\n",
              "  .colab-df-quickchart-complete:disabled:hover {\n",
              "    background-color: var(--disabled-bg-color);\n",
              "    fill: var(--disabled-fill-color);\n",
              "    box-shadow: none;\n",
              "  }\n",
              "\n",
              "  .colab-df-spinner {\n",
              "    border: 2px solid var(--fill-color);\n",
              "    border-color: transparent;\n",
              "    border-bottom-color: var(--fill-color);\n",
              "    animation:\n",
              "      spin 1s steps(1) infinite;\n",
              "  }\n",
              "\n",
              "  @keyframes spin {\n",
              "    0% {\n",
              "      border-color: transparent;\n",
              "      border-bottom-color: var(--fill-color);\n",
              "      border-left-color: var(--fill-color);\n",
              "    }\n",
              "    20% {\n",
              "      border-color: transparent;\n",
              "      border-left-color: var(--fill-color);\n",
              "      border-top-color: var(--fill-color);\n",
              "    }\n",
              "    30% {\n",
              "      border-color: transparent;\n",
              "      border-left-color: var(--fill-color);\n",
              "      border-top-color: var(--fill-color);\n",
              "      border-right-color: var(--fill-color);\n",
              "    }\n",
              "    40% {\n",
              "      border-color: transparent;\n",
              "      border-right-color: var(--fill-color);\n",
              "      border-top-color: var(--fill-color);\n",
              "    }\n",
              "    60% {\n",
              "      border-color: transparent;\n",
              "      border-right-color: var(--fill-color);\n",
              "    }\n",
              "    80% {\n",
              "      border-color: transparent;\n",
              "      border-right-color: var(--fill-color);\n",
              "      border-bottom-color: var(--fill-color);\n",
              "    }\n",
              "    90% {\n",
              "      border-color: transparent;\n",
              "      border-bottom-color: var(--fill-color);\n",
              "    }\n",
              "  }\n",
              "</style>\n",
              "\n",
              "  <script>\n",
              "    async function quickchart(key) {\n",
              "      const quickchartButtonEl =\n",
              "        document.querySelector('#' + key + ' button');\n",
              "      quickchartButtonEl.disabled = true;  // To prevent multiple clicks.\n",
              "      quickchartButtonEl.classList.add('colab-df-spinner');\n",
              "      try {\n",
              "        const charts = await google.colab.kernel.invokeFunction(\n",
              "            'suggestCharts', [key], {});\n",
              "      } catch (error) {\n",
              "        console.error('Error during call to suggestCharts:', error);\n",
              "      }\n",
              "      quickchartButtonEl.classList.remove('colab-df-spinner');\n",
              "      quickchartButtonEl.classList.add('colab-df-quickchart-complete');\n",
              "    }\n",
              "    (() => {\n",
              "      let quickchartButtonEl =\n",
              "        document.querySelector('#df-149423b3-38b8-43a5-bce4-ede0aad0814c button');\n",
              "      quickchartButtonEl.style.display =\n",
              "        google.colab.kernel.accessAllowed ? 'block' : 'none';\n",
              "    })();\n",
              "  </script>\n",
              "</div>\n",
              "\n",
              "    </div>\n",
              "  </div>\n"
            ],
            "application/vnd.google.colaboratory.intrinsic+json": {
              "type": "dataframe",
              "summary": "{\n  \"name\": \"logins_resampled\",\n  \"rows\": 8,\n  \"fields\": [\n    {\n      \"column\": \"login_count\",\n      \"properties\": {\n        \"dtype\": \"number\",\n        \"std\": 3454.9104541866873,\n        \"min\": 0.0,\n        \"max\": 9788.0,\n        \"num_unique_values\": 8,\n        \"samples\": [\n          9.51593788312219,\n          7.0,\n          9788.0\n        ],\n        \"semantic_type\": \"\",\n        \"description\": \"\"\n      }\n    }\n  ]\n}"
            }
          },
          "metadata": {},
          "execution_count": 39
        }
      ]
    },
    {
      "cell_type": "code",
      "source": [
        "logins_resampled.info()"
      ],
      "metadata": {
        "colab": {
          "base_uri": "https://localhost:8080/"
        },
        "id": "IyCzs3yMgk5M",
        "outputId": "710ad526-cb10-483e-fd03-467c9f5863bd"
      },
      "execution_count": 40,
      "outputs": [
        {
          "output_type": "stream",
          "name": "stdout",
          "text": [
            "<class 'pandas.core.frame.DataFrame'>\n",
            "DatetimeIndex: 9788 entries, 1970-01-01 20:00:00 to 1970-04-13 18:45:00\n",
            "Data columns (total 1 columns):\n",
            " #   Column       Non-Null Count  Dtype\n",
            "---  ------       --------------  -----\n",
            " 0   login_count  9788 non-null   int64\n",
            "dtypes: int64(1)\n",
            "memory usage: 152.9 KB\n"
          ]
        }
      ]
    },
    {
      "cell_type": "markdown",
      "source": [
        "## Visualize Trends"
      ],
      "metadata": {
        "id": "oJg6h0HLkJPe"
      }
    },
    {
      "cell_type": "code",
      "source": [
        "average_login_count=logins_resampled['login_count'].mean()"
      ],
      "metadata": {
        "id": "BudW09ZukIZZ"
      },
      "execution_count": 41,
      "outputs": []
    },
    {
      "cell_type": "code",
      "source": [
        "plt.figure(figsize=(12,6))\n",
        "sns.lineplot(x=logins_resampled.index, y='login_count', data=logins_resampled)\n",
        "plt.axhline(y=average_login_count, color='red', linestyle ='--',label=f'Average Login Count ({average_login_count:.2f})')\n",
        "plt.xlabel('Time')\n",
        "plt.ylabel('Number of Logins')\n",
        "plt.legend()\n",
        "plt.show()"
      ],
      "metadata": {
        "colab": {
          "base_uri": "https://localhost:8080/",
          "height": 381
        },
        "id": "coxAlathlFlb",
        "outputId": "1f8e4503-ac2d-4514-8c53-513676637dea"
      },
      "execution_count": 42,
      "outputs": [
        {
          "output_type": "display_data",
          "data": {
            "text/plain": [
              "<Figure size 1200x600 with 1 Axes>"
            ],
            "image/png": "[encoded data removed]"
          },
          "metadata": {}
        }
      ]
    },
    {
      "cell_type": "code",
      "source": [
        "# Assuming your 'logins_resampled' DataFrame has a datetime index\n",
        "logins_resampled['hour'] = logins_resampled.index.hour\n",
        "\n",
        "# Average number of logins by hour of the day\n",
        "plt.figure(figsize=(10,6))\n",
        "sns.boxplot(x='hour',y='login_count',data=logins_resampled)\n",
        "plt.title('Average Number of Logins by Hour of Day')\n",
        "plt.xlabel('Hour of Day')\n",
        "plt.ylabel('Login Count')\n",
        "plt.axhline(y=average_login_count,color='red',linestyle='--',label=f'Average Login Count ({average_login_count:.2f})')\n",
        "plt.show()"
      ],
      "metadata": {
        "colab": {
          "base_uri": "https://localhost:8080/",
          "height": 470
        },
        "id": "ANdR7avAlOg-",
        "outputId": "d64c270b-7300-4d4b-ad97-6397f4fc4a4d"
      },
      "execution_count": 43,
      "outputs": [
        {
          "output_type": "display_data",
          "data": {
            "text/plain": [
              "<Figure size 1000x600 with 1 Axes>"
            ],
            "image/png": "[encoded data removed]"
          },
          "metadata": {}
        }
      ]
    },
    {
      "cell_type": "code",
      "source": [
        "#Average Logins by Day of the Week\n",
        "\n",
        "# Extract the day of the week from the index\n",
        "logins_resampled['day_of_week'] = logins_resampled.index.dayofweek\n",
        "logins_resampled['hour']=logins_resampled.index.hour\n",
        "# Group by day of the week and calculate the average number of logins\n",
        "daily_avg = logins_resampled.groupby('day_of_week')['login_count'].mean()\n",
        "\n",
        "# Plot the average logins by day of the week\n",
        "plt.figure(figsize=(10, 6))\n",
        "sns.boxplot(x='day_of_week', y='login_count',data= logins_resampled)\n",
        "plt.title('Average Logins by Day of the Week')\n",
        "plt.xlabel('Day of the Week')\n",
        "plt.ylabel('Average Logins')\n",
        "plt.xticks(ticks=[0,1,2,3,4,5,6], labels=['Monday','Tuesday','Wednesday','Thursday','Friday','Saturday','Sunday'])\n",
        "plt.axhline(y=average_login_count, color='red', linestyle='--')\n",
        "plt.show()"
      ],
      "metadata": {
        "colab": {
          "base_uri": "https://localhost:8080/",
          "height": 470
        },
        "id": "G7YaSmWemZPG",
        "outputId": "3b3a40d1-f0ce-44c7-c33a-8232edd7d0d4"
      },
      "execution_count": 44,
      "outputs": [
        {
          "output_type": "display_data",
          "data": {
            "text/plain": [
              "<Figure size 1000x600 with 1 Axes>"
            ],
            "image/png": "[encoded data removed]"
          },
          "metadata": {}
        }
      ]
    },
    {
      "cell_type": "code",
      "source": [
        "#Extract day of the week and hour for each login entry\n",
        "logins_resampled['day_of_week'] = logins_resampled.index.dayofweek\n",
        "logins_resampled['hour'] = logins_resampled.index.hour\n",
        "\n",
        "# Group by day of the week and hour\n",
        "heatmap_data = logins_resampled.groupby(['day_of_week', 'hour'])['login_count'].mean().unstack()\n",
        "\n",
        "# Plot heatmap\n",
        "plt.figure(figsize=(12, 6))\n",
        "sns.heatmap(heatmap_data, cmap='viridis', annot=False, fmt=\".1f\", cbar_kws={'label': 'Average Logins'})\n",
        "plt.title('Average Logins by Hour and Day of the Week')\n",
        "plt.xlabel('Hour of Day')\n",
        "plt.ylabel('Day of Week')\n",
        "\n",
        "# Set labels\n",
        "days = ['Monday', 'Tuesday', 'Wednesday', 'Thursday', 'Friday', 'Saturday', 'Sunday']\n",
        "plt.yticks(ticks=np.arange(len(days)) + 0.5, labels=days, rotation=0)\n",
        "\n",
        "plt.show()"
      ],
      "metadata": {
        "colab": {
          "base_uri": "https://localhost:8080/",
          "height": 402
        },
        "id": "7stJnz0Umv94",
        "outputId": "7c68df57-38b8-49ad-e995-aac550deed02"
      },
      "execution_count": 45,
      "outputs": [
        {
          "output_type": "display_data",
          "data": {
            "text/plain": [
              "<Figure size 1200x600 with 2 Axes>"
            ],
            "image/png": "[encoded data removed]"
          },
          "metadata": {}
        }
      ]
    },
    {
      "cell_type": "code",
      "source": [
        "#Average Logins by Month\n",
        "\n",
        "# Extract the month from the index\n",
        "logins_resampled['month'] = logins_resampled.index.month\n",
        "\n",
        "# Group by month and calculate the average number of logins\n",
        "monthly_avg = logins_resampled.groupby('month')['login_count'].mean()\n",
        "\n",
        "# Plot the average logins by month\n",
        "plt.figure(figsize=(10, 6))\n",
        "plt.plot(monthly_avg, marker='o', linestyle='-', color='r')\n",
        "plt.title('Average Logins by Month')\n",
        "plt.xlabel('Month')\n",
        "plt.ylabel('Average Logins')\n",
        "plt.grid(True)\n",
        "\n",
        "\n",
        "# Set custom month labels\n",
        "months = ['January', 'February', 'March', 'April']\n",
        "plt.xticks(ticks=range(1, 5), labels=months)\n",
        "\n",
        "plt.show()"
      ],
      "metadata": {
        "colab": {
          "base_uri": "https://localhost:8080/",
          "height": 463
        },
        "id": "GNyqSH3pnEIa",
        "outputId": "13f4d1fe-9687-4e8b-befc-9891a1ca8a62"
      },
      "execution_count": 46,
      "outputs": [
        {
          "output_type": "display_data",
          "data": {
            "text/plain": [
              "<Figure size 1000x600 with 1 Axes>"
            ],
            "image/png": "[encoded data removed]"
          },
          "metadata": {}
        }
      ]
    },
    {
      "cell_type": "markdown",
      "source": [
        "## Findings:\n",
        "\n",
        "The analysis revealed an average login count of 9.52 over the four-month span, with a steady increase in average monthly logins over time. Daily login averages were similar, with an average of 10 logins per day. Saturdays and Sundays emerged as the days with the highest login counts. A heatmap and box plot were created to highlight the time-of-day patterns for logins. The data shows peak activity from midnight to 4:00 am on weekends, likely indicating late-night demand. Another consistent peak occurred around 11:00 am, suggesting a possible lunch-hour surge. These insights point to both weekend and midday times as high-demand periods for logins."
      ],
      "metadata": {
        "id": "k6L-whgBnTmv"
      }
    },
    {
      "cell_type": "markdown",
      "source": [
        "## Part 2: Experiment & Metrics Design"
      ],
      "metadata": {
        "id": "hnw5kfj6nqm5"
      }
    },
    {
      "cell_type": "markdown",
      "source": [
        "The goal of Part 2 is to design an experiment that measures the success of reimbursing toll costs for driver partners between Gotham and Metropolis."
      ],
      "metadata": {
        "id": "3mb8cECJntS4"
      }
    },
    {
      "cell_type": "markdown",
      "source": [
        "The primary measure of success would be the increase in the number of cross-city trips made by drivers. This metric is directly related to the goal of encouraging drivers to serve both cities, as more cross-city trips would indicate that drivers are taking advantage of the toll reimbursement.\n"
      ],
      "metadata": {
        "id": "n4M9X0DqoaIt"
      }
    },
    {
      "cell_type": "markdown",
      "source": [
        "**Metrics:**\n",
        "\n",
        "The purpose of the toll reimbursement is to reduce friction (i.e., the cost of crossing the toll bridge), so the most important outcome is whether or not drivers respond by increasing their cross-city trips.\n",
        "\n",
        "The number of cross-city trips can be easily tracked through ride data and matched to toll bridge crossing records.\n",
        "\n",
        "We can measure the number of cross-city trips before and after the toll reimbursement programe starts, as well as compare cross-city trip patterns between drivers who receive reimbursement and those who do not.\n",
        "\n",
        "\n",
        "We'll use an A/B test to compare drivers who receive toll reimbursements (the experimental group) against drivers who do not (the control group).\n",
        "\n",
        "**Randomization:**\n",
        "\n",
        "\n",
        "-Driver segmentation: Randomly assign drivers into two groups\n",
        "\n",
        "-Group A (Experimental): Drivers who receive toll reimbursement for cross-city trips.\n",
        "\n",
        "-Group B (Control): Drivers who do not receive toll reimbursement.\n",
        "\n",
        "-Random assignment ensures that the two groups are comparable and that any differences in the number of cross-city trips can be attributed to the reimbursement policy rather than other factors.\n",
        "\n",
        "-For both groups, track the number of cross-city trips before and during the experiment.\n",
        "    \n",
        "**Track additional variables such as:**\n",
        "\n",
        "-Number of trips within each city\n",
        "\n",
        "-Time of day and day of the week (since demand patterns differ)\n",
        "\n",
        "-Number of trips during weekdays vs. weekends\n",
        "\n",
        "\n",
        "**Hypothesis Testing:**\n",
        "\n",
        "-Null Hypothesis (H0): Toll reimbursement does not affect the number of cross-city trips (i.e., there is no difference between Group A and Group B)\n",
        "\n",
        "-Alternative Hypothesis (H1): Toll reimbursement increases the number of cross-city trips (i.e., Group A has more cross-city trips than Group B)\n",
        "\n",
        "We can use a two-sample t-test to compare the mean number of cross-city trips between the two groups. This will help us determine if there is a statistically significant difference between the groups.\n",
        "\n",
        "**Test Assumptions:**\n",
        "\n",
        "\n",
        "The t-test assumes normality in the distribution of cross-city trips. If the data is not normally distributed, we can apply a non-parametric test.\n",
        "\n",
        "The test also assumes homogeneity of variance between the two groups.\n",
        "\n",
        "**Effect Size:**\n",
        "\n",
        "In addition to statistical significance, we should calculate the effect size to determine how large the impact of the toll reimbursement is. A significant p-value might indicate a difference, but the effect size will tell us if that difference is practically meaningful.\n",
        "Interpretation of Results and Recommendations\n",
        "\n",
        "**Significant Increase in Cross-City Trips:**\n",
        "\n",
        "-If the t-test shows a statistically significant increase in cross-city trips for the experimental group (Group A) compared to the control group (Group B), we can conclude that toll reimbursement is effective.\n",
        "\n",
        "-Recommendation:\n",
        "Expand the toll reimbursement program to all drivers in both cities to encourage cross-city rides and improve overall availability of driver partners.\n",
        "\n",
        "**No Significant Difference:**\n",
        "\n",
        "-If there is no significant difference between the two groups, we can conclude that toll reimbursement does not have a measurable impact on cross-city trips.\n",
        "\n",
        "-Recommendation:\n",
        "The toll reimbursement policy may not be sufficient to incentivize drivers to travel between the cities. Additional incentives (e.g., financial bonuses for cross-city trips, enhanced route optimization) could be tested in further experiments.\n",
        "Caveats:\n",
        "\n",
        "**External factors:**\n",
        "\n",
        "-Traffic conditions, road closures, or special events could impact the results by affecting travel between cities during the experiment period.\n",
        "\n",
        "-Seasonality: Certain times of the year (e.g., holidays or tourist seasons) may see higher-than-normal cross-city travel, potentially biasing the results.\n",
        "\n",
        "-Driver behavior: Some drivers may be less willing to cross cities due to personal preferences, which toll reimbursement alone might not overcome. Future experiments could investigate the reasons behind this reluctance.\n"
      ],
      "metadata": {
        "id": "vn2O6EEBol_y"
      }
    },
    {
      "cell_type": "markdown",
      "source": [
        "#Part 3: Predictive Modeling for Driver Retention"
      ],
      "metadata": {
        "id": "MgG2tMjcrcIX"
      }
    },
    {
      "cell_type": "markdown",
      "source": [
        "Cleaning & EDA of Ultimate Data Challenge JSON"
      ],
      "metadata": {
        "id": "L8O7FeJqqL0z"
      }
    },
    {
      "cell_type": "code",
      "source": [
        "ultimate ='/content/drive/MyDrive/ultimate_challenge/ultimate_data_challenge.json'\n",
        "\n",
        "df_ultimate = pd.read_json(ultimate)\n",
        "\n",
        "df_ultimate.head()"
      ],
      "metadata": {
        "colab": {
          "base_uri": "https://localhost:8080/",
          "height": 261
        },
        "id": "I-OYGW3vwZTp",
        "outputId": "fb9563ac-a901-4123-9184-3c2a62d84919"
      },
      "execution_count": 47,
      "outputs": [
        {
          "output_type": "execute_result",
          "data": {
            "text/plain": [
              "             city  trips_in_first_30_days signup_date  avg_rating_of_driver  \\\n",
              "0  King's Landing                       4  2014-01-25                   4.7   \n",
              "1         Astapor                       0  2014-01-29                   5.0   \n",
              "2         Astapor                       3  2014-01-06                   4.3   \n",
              "3  King's Landing                       9  2014-01-10                   4.6   \n",
              "4      Winterfell                      14  2014-01-27                   4.4   \n",
              "\n",
              "   avg_surge last_trip_date    phone  surge_pct  ultimate_black_user  \\\n",
              "0       1.10     2014-06-17   iPhone       15.4                 True   \n",
              "1       1.00     2014-05-05  Android        0.0                False   \n",
              "2       1.00     2014-01-07   iPhone        0.0                False   \n",
              "3       1.14     2014-06-29   iPhone       20.0                 True   \n",
              "4       1.19     2014-03-15  Android       11.8                False   \n",
              "\n",
              "   weekday_pct  avg_dist  avg_rating_by_driver  \n",
              "0         46.2      3.67                   5.0  \n",
              "1         50.0      8.26                   5.0  \n",
              "2        100.0      0.77                   5.0  \n",
              "3         80.0      2.36                   4.9  \n",
              "4         82.4      3.13                   4.9  "
            ],
            "text/html": [
              "\n",
              "  <div id=\"df-06b64781-106c-40e8-abff-d230e77a0bb0\" class=\"colab-df-container\">\n",
              "    <div>\n",
              "<style scoped>\n",
              "    .dataframe tbody tr th:only-of-type {\n",
              "        vertical-align: middle;\n",
              "    }\n",
              "\n",
              "    .dataframe tbody tr th {\n",
              "        vertical-align: top;\n",
              "    }\n",
              "\n",
              "    .dataframe thead th {\n",
              "        text-align: right;\n",
              "    }\n",
              "</style>\n",
              "<table border=\"1\" class=\"dataframe\">\n",
              "  <thead>\n",
              "    <tr style=\"text-align: right;\">\n",
              "      <th></th>\n",
              "      <th>city</th>\n",
              "      <th>trips_in_first_30_days</th>\n",
              "      <th>signup_date</th>\n",
              "      <th>avg_rating_of_driver</th>\n",
              "      <th>avg_surge</th>\n",
              "      <th>last_trip_date</th>\n",
              "      <th>phone</th>\n",
              "      <th>surge_pct</th>\n",
              "      <th>ultimate_black_user</th>\n",
              "      <th>weekday_pct</th>\n",
              "      <th>avg_dist</th>\n",
              "      <th>avg_rating_by_driver</th>\n",
              "    </tr>\n",
              "  </thead>\n",
              "  <tbody>\n",
              "    <tr>\n",
              "      <th>0</th>\n",
              "      <td>King's Landing</td>\n",
              "      <td>4</td>\n",
              "      <td>2014-01-25</td>\n",
              "      <td>4.7</td>\n",
              "      <td>1.10</td>\n",
              "      <td>2014-06-17</td>\n",
              "      <td>iPhone</td>\n",
              "      <td>15.4</td>\n",
              "      <td>True</td>\n",
              "      <td>46.2</td>\n",
              "      <td>3.67</td>\n",
              "      <td>5.0</td>\n",
              "    </tr>\n",
              "    <tr>\n",
              "      <th>1</th>\n",
              "      <td>Astapor</td>\n",
              "      <td>0</td>\n",
              "      <td>2014-01-29</td>\n",
              "      <td>5.0</td>\n",
              "      <td>1.00</td>\n",
              "      <td>2014-05-05</td>\n",
              "      <td>Android</td>\n",
              "      <td>0.0</td>\n",
              "      <td>False</td>\n",
              "      <td>50.0</td>\n",
              "      <td>8.26</td>\n",
              "      <td>5.0</td>\n",
              "    </tr>\n",
              "    <tr>\n",
              "      <th>2</th>\n",
              "      <td>Astapor</td>\n",
              "      <td>3</td>\n",
              "      <td>2014-01-06</td>\n",
              "      <td>4.3</td>\n",
              "      <td>1.00</td>\n",
              "      <td>2014-01-07</td>\n",
              "      <td>iPhone</td>\n",
              "      <td>0.0</td>\n",
              "      <td>False</td>\n",
              "      <td>100.0</td>\n",
              "      <td>0.77</td>\n",
              "      <td>5.0</td>\n",
              "    </tr>\n",
              "    <tr>\n",
              "      <th>3</th>\n",
              "      <td>King's Landing</td>\n",
              "      <td>9</td>\n",
              "      <td>2014-01-10</td>\n",
              "      <td>4.6</td>\n",
              "      <td>1.14</td>\n",
              "      <td>2014-06-29</td>\n",
              "      <td>iPhone</td>\n",
              "      <td>20.0</td>\n",
              "      <td>True</td>\n",
              "      <td>80.0</td>\n",
              "      <td>2.36</td>\n",
              "      <td>4.9</td>\n",
              "    </tr>\n",
              "    <tr>\n",
              "      <th>4</th>\n",
              "      <td>Winterfell</td>\n",
              "      <td>14</td>\n",
              "      <td>2014-01-27</td>\n",
              "      <td>4.4</td>\n",
              "      <td>1.19</td>\n",
              "      <td>2014-03-15</td>\n",
              "      <td>Android</td>\n",
              "      <td>11.8</td>\n",
              "      <td>False</td>\n",
              "      <td>82.4</td>\n",
              "      <td>3.13</td>\n",
              "      <td>4.9</td>\n",
              "    </tr>\n",
              "  </tbody>\n",
              "</table>\n",
              "</div>\n",
              "    <div class=\"colab-df-buttons\">\n",
              "\n",
              "  <div class=\"colab-df-container\">\n",
              "    <button class=\"colab-df-convert\" onclick=\"convertToInteractive('df-06b64781-106c-40e8-abff-d230e77a0bb0')\"\n",
              "            title=\"Convert this dataframe to an interactive table.\"\n",
              "            style=\"display:none;\">\n",
              "\n",
              "  <svg xmlns=\"http://www.w3.org/2000/svg\" height=\"24px\" viewBox=\"0 -960 960 960\">\n",
              "    <path d=\"M120-120v-720h720v720H120Zm60-500h600v-160H180v160Zm220 220h160v-160H400v160Zm0 220h160v-160H400v160ZM180-400h160v-160H180v160Zm440 0h160v-160H620v160ZM180-180h160v-160H180v160Zm440 0h160v-160H620v160Z\"/>\n",
              "  </svg>\n",
              "    </button>\n",
              "\n",
              "  <style>\n",
              "    .colab-df-container {\n",
              "      display:flex;\n",
              "      gap: 12px;\n",
              "    }\n",
              "\n",
              "    .colab-df-convert {\n",
              "      background-color: #E8F0FE;\n",
              "      border: none;\n",
              "      border-radius: 50%;\n",
              "      cursor: pointer;\n",
              "      display: none;\n",
              "      fill: #1967D2;\n",
              "      height: 32px;\n",
              "      padding: 0 0 0 0;\n",
              "      width: 32px;\n",
              "    }\n",
              "\n",
              "    .colab-df-convert:hover {\n",
              "      background-color: #E2EBFA;\n",
              "      box-shadow: 0px 1px 2px rgba(60, 64, 67, 0.3), 0px 1px 3px 1px rgba(60, 64, 67, 0.15);\n",
              "      fill: #174EA6;\n",
              "    }\n",
              "\n",
              "    .colab-df-buttons div {\n",
              "      margin-bottom: 4px;\n",
              "    }\n",
              "\n",
              "    [theme=dark] .colab-df-convert {\n",
              "      background-color: #3B4455;\n",
              "      fill: #D2E3FC;\n",
              "    }\n",
              "\n",
              "    [theme=dark] .colab-df-convert:hover {\n",
              "      background-color: #434B5C;\n",
              "      box-shadow: 0px 1px 3px 1px rgba(0, 0, 0, 0.15);\n",
              "      filter: drop-shadow(0px 1px 2px rgba(0, 0, 0, 0.3));\n",
              "      fill: #FFFFFF;\n",
              "    }\n",
              "  </style>\n",
              "\n",
              "    <script>\n",
              "      const buttonEl =\n",
              "        document.querySelector('#df-06b64781-106c-40e8-abff-d230e77a0bb0 button.colab-df-convert');\n",
              "      buttonEl.style.display =\n",
              "        google.colab.kernel.accessAllowed ? 'block' : 'none';\n",
              "\n",
              "      async function convertToInteractive(key) {\n",
              "        const element = document.querySelector('#df-06b64781-106c-40e8-abff-d230e77a0bb0');\n",
              "        const dataTable =\n",
              "          await google.colab.kernel.invokeFunction('convertToInteractive',\n",
              "                                                    [key], {});\n",
              "        if (!dataTable) return;\n",
              "\n",
              "        const docLinkHtml = 'Like what you see? Visit the ' +\n",
              "          '<a target=\"_blank\" href=https://colab.research.google.com/notebooks/data_table.ipynb>data table notebook</a>'\n",
              "          + ' to learn more about interactive tables.';\n",
              "        element.innerHTML = '';\n",
              "        dataTable['output_type'] = 'display_data';\n",
              "        await google.colab.output.renderOutput(dataTable, element);\n",
              "        const docLink = document.createElement('div');\n",
              "        docLink.innerHTML = docLinkHtml;\n",
              "        element.appendChild(docLink);\n",
              "      }\n",
              "    </script>\n",
              "  </div>\n",
              "\n",
              "\n",
              "<div id=\"df-168a1225-8a1d-4609-9433-c6b0de9ab134\">\n",
              "  <button class=\"colab-df-quickchart\" onclick=\"quickchart('df-168a1225-8a1d-4609-9433-c6b0de9ab134')\"\n",
              "            title=\"Suggest charts\"\n",
              "            style=\"display:none;\">\n",
              "\n",
              "<svg xmlns=\"http://www.w3.org/2000/svg\" height=\"24px\"viewBox=\"0 0 24 24\"\n",
              "     width=\"24px\">\n",
              "    <g>\n",
              "        <path d=\"M19 3H5c-1.1 0-2 .9-2 2v14c0 1.1.9 2 2 2h14c1.1 0 2-.9 2-2V5c0-1.1-.9-2-2-2zM9 17H7v-7h2v7zm4 0h-2V7h2v10zm4 0h-2v-4h2v4z\"/>\n",
              "    </g>\n",
              "</svg>\n",
              "  </button>\n",
              "\n",
              "<style>\n",
              "  .colab-df-quickchart {\n",
              "      --bg-color: #E8F0FE;\n",
              "      --fill-color: #1967D2;\n",
              "      --hover-bg-color: #E2EBFA;\n",
              "      --hover-fill-color: #174EA6;\n",
              "      --disabled-fill-color: #AAA;\n",
              "      --disabled-bg-color: #DDD;\n",
              "  }\n",
              "\n",
              "  [theme=dark] .colab-df-quickchart {\n",
              "      --bg-color: #3B4455;\n",
              "      --fill-color: #D2E3FC;\n",
              "      --hover-bg-color: #434B5C;\n",
              "      --hover-fill-color: #FFFFFF;\n",
              "      --disabled-bg-color: #3B4455;\n",
              "      --disabled-fill-color: #666;\n",
              "  }\n",
              "\n",
              "  .colab-df-quickchart {\n",
              "    background-color: var(--bg-color);\n",
              "    border: none;\n",
              "    border-radius: 50%;\n",
              "    cursor: pointer;\n",
              "    display: none;\n",
              "    fill: var(--fill-color);\n",
              "    height: 32px;\n",
              "    padding: 0;\n",
              "    width: 32px;\n",
              "  }\n",
              "\n",
              "  .colab-df-quickchart:hover {\n",
              "    background-color: var(--hover-bg-color);\n",
              "    box-shadow: 0 1px 2px rgba(60, 64, 67, 0.3), 0 1px 3px 1px rgba(60, 64, 67, 0.15);\n",
              "    fill: var(--button-hover-fill-color);\n",
              "  }\n",
              "\n",
              "  .colab-df-quickchart-complete:disabled,\n",
              "  .colab-df-quickchart-complete:disabled:hover {\n",
              "    background-color: var(--disabled-bg-color);\n",
              "    fill: var(--disabled-fill-color);\n",
              "    box-shadow: none;\n",
              "  }\n",
              "\n",
              "  .colab-df-spinner {\n",
              "    border: 2px solid var(--fill-color);\n",
              "    border-color: transparent;\n",
              "    border-bottom-color: var(--fill-color);\n",
              "    animation:\n",
              "      spin 1s steps(1) infinite;\n",
              "  }\n",
              "\n",
              "  @keyframes spin {\n",
              "    0% {\n",
              "      border-color: transparent;\n",
              "      border-bottom-color: var(--fill-color);\n",
              "      border-left-color: var(--fill-color);\n",
              "    }\n",
              "    20% {\n",
              "      border-color: transparent;\n",
              "      border-left-color: var(--fill-color);\n",
              "      border-top-color: var(--fill-color);\n",
              "    }\n",
              "    30% {\n",
              "      border-color: transparent;\n",
              "      border-left-color: var(--fill-color);\n",
              "      border-top-color: var(--fill-color);\n",
              "      border-right-color: var(--fill-color);\n",
              "    }\n",
              "    40% {\n",
              "      border-color: transparent;\n",
              "      border-right-color: var(--fill-color);\n",
              "      border-top-color: var(--fill-color);\n",
              "    }\n",
              "    60% {\n",
              "      border-color: transparent;\n",
              "      border-right-color: var(--fill-color);\n",
              "    }\n",
              "    80% {\n",
              "      border-color: transparent;\n",
              "      border-right-color: var(--fill-color);\n",
              "      border-bottom-color: var(--fill-color);\n",
              "    }\n",
              "    90% {\n",
              "      border-color: transparent;\n",
              "      border-bottom-color: var(--fill-color);\n",
              "    }\n",
              "  }\n",
              "</style>\n",
              "\n",
              "  <script>\n",
              "    async function quickchart(key) {\n",
              "      const quickchartButtonEl =\n",
              "        document.querySelector('#' + key + ' button');\n",
              "      quickchartButtonEl.disabled = true;  // To prevent multiple clicks.\n",
              "      quickchartButtonEl.classList.add('colab-df-spinner');\n",
              "      try {\n",
              "        const charts = await google.colab.kernel.invokeFunction(\n",
              "            'suggestCharts', [key], {});\n",
              "      } catch (error) {\n",
              "        console.error('Error during call to suggestCharts:', error);\n",
              "      }\n",
              "      quickchartButtonEl.classList.remove('colab-df-spinner');\n",
              "      quickchartButtonEl.classList.add('colab-df-quickchart-complete');\n",
              "    }\n",
              "    (() => {\n",
              "      let quickchartButtonEl =\n",
              "        document.querySelector('#df-168a1225-8a1d-4609-9433-c6b0de9ab134 button');\n",
              "      quickchartButtonEl.style.display =\n",
              "        google.colab.kernel.accessAllowed ? 'block' : 'none';\n",
              "    })();\n",
              "  </script>\n",
              "</div>\n",
              "\n",
              "    </div>\n",
              "  </div>\n"
            ],
            "application/vnd.google.colaboratory.intrinsic+json": {
              "type": "dataframe",
              "variable_name": "df_ultimate",
              "summary": "{\n  \"name\": \"df_ultimate\",\n  \"rows\": 50000,\n  \"fields\": [\n    {\n      \"column\": \"city\",\n      \"properties\": {\n        \"dtype\": \"category\",\n        \"num_unique_values\": 3,\n        \"samples\": [\n          \"King's Landing\",\n          \"Astapor\",\n          \"Winterfell\"\n        ],\n        \"semantic_type\": \"\",\n        \"description\": \"\"\n      }\n    },\n    {\n      \"column\": \"trips_in_first_30_days\",\n      \"properties\": {\n        \"dtype\": \"number\",\n        \"std\": 3,\n        \"min\": 0,\n        \"max\": 125,\n        \"num_unique_values\": 59,\n        \"samples\": [\n          4,\n          2,\n          25\n        ],\n        \"semantic_type\": \"\",\n        \"description\": \"\"\n      }\n    },\n    {\n      \"column\": \"signup_date\",\n      \"properties\": {\n        \"dtype\": \"object\",\n        \"num_unique_values\": 31,\n        \"samples\": [\n          \"2014-01-01\",\n          \"2014-01-31\",\n          \"2014-01-20\"\n        ],\n        \"semantic_type\": \"\",\n        \"description\": \"\"\n      }\n    },\n    {\n      \"column\": \"avg_rating_of_driver\",\n      \"properties\": {\n        \"dtype\": \"number\",\n        \"std\": 0.6173384560412452,\n        \"min\": 1.0,\n        \"max\": 5.0,\n        \"num_unique_values\": 37,\n        \"samples\": [\n          3.8,\n          1.0,\n          4.4\n        ],\n        \"semantic_type\": \"\",\n        \"description\": \"\"\n      }\n    },\n    {\n      \"column\": \"avg_surge\",\n      \"properties\": {\n        \"dtype\": \"number\",\n        \"std\": 0.22233600894947136,\n        \"min\": 1.0,\n        \"max\": 8.0,\n        \"num_unique_values\": 115,\n        \"samples\": [\n          1.3900000000000001,\n          1.38,\n          1.45\n        ],\n        \"semantic_type\": \"\",\n        \"description\": \"\"\n      }\n    },\n    {\n      \"column\": \"last_trip_date\",\n      \"properties\": {\n        \"dtype\": \"object\",\n        \"num_unique_values\": 182,\n        \"samples\": [\n          \"2014-06-03\",\n          \"2014-06-18\",\n          \"2014-02-12\"\n        ],\n        \"semantic_type\": \"\",\n        \"description\": \"\"\n      }\n    },\n    {\n      \"column\": \"phone\",\n      \"properties\": {\n        \"dtype\": \"category\",\n        \"num_unique_values\": 2,\n        \"samples\": [\n          \"Android\",\n          \"iPhone\"\n        ],\n        \"semantic_type\": \"\",\n        \"description\": \"\"\n      }\n    },\n    {\n      \"column\": \"surge_pct\",\n      \"properties\": {\n        \"dtype\": \"number\",\n        \"std\": 19.958810898132896,\n        \"min\": 0.0,\n        \"max\": 100.0,\n        \"num_unique_values\": 367,\n        \"samples\": [\n          10.8,\n          7.7\n        ],\n        \"semantic_type\": \"\",\n        \"description\": \"\"\n      }\n    },\n    {\n      \"column\": \"ultimate_black_user\",\n      \"properties\": {\n        \"dtype\": \"boolean\",\n        \"num_unique_values\": 2,\n        \"samples\": [\n          false,\n          true\n        ],\n        \"semantic_type\": \"\",\n        \"description\": \"\"\n      }\n    },\n    {\n      \"column\": \"weekday_pct\",\n      \"properties\": {\n        \"dtype\": \"number\",\n        \"std\": 37.081503405109224,\n        \"min\": 0.0,\n        \"max\": 100.0,\n        \"num_unique_values\": 666,\n        \"samples\": [\n          94.5,\n          86.1\n        ],\n        \"semantic_type\": \"\",\n        \"description\": \"\"\n      }\n    },\n    {\n      \"column\": \"avg_dist\",\n      \"properties\": {\n        \"dtype\": \"number\",\n        \"std\": 5.707356703233332,\n        \"min\": 0.0,\n        \"max\": 160.96,\n        \"num_unique_values\": 2908,\n        \"samples\": [\n          13.89,\n          5.67\n        ],\n        \"semantic_type\": \"\",\n        \"description\": \"\"\n      }\n    },\n    {\n      \"column\": \"avg_rating_by_driver\",\n      \"properties\": {\n        \"dtype\": \"number\",\n        \"std\": 0.4466517934657271,\n        \"min\": 1.0,\n        \"max\": 5.0,\n        \"num_unique_values\": 27,\n        \"samples\": [\n          4.4,\n          2.0\n        ],\n        \"semantic_type\": \"\",\n        \"description\": \"\"\n      }\n    }\n  ]\n}"
            }
          },
          "metadata": {},
          "execution_count": 47
        }
      ]
    },
    {
      "cell_type": "code",
      "source": [
        "print(df_ultimate.dtypes)\n",
        "\n",
        "print(df_ultimate.info())\n",
        "\n",
        "print(df_ultimate.columns)"
      ],
      "metadata": {
        "colab": {
          "base_uri": "https://localhost:8080/"
        },
        "id": "49PshOZUxCbR",
        "outputId": "0d44fb84-c51e-486a-d289-e47ca8136e84"
      },
      "execution_count": 48,
      "outputs": [
        {
          "output_type": "stream",
          "name": "stdout",
          "text": [
            "city                       object\n",
            "trips_in_first_30_days      int64\n",
            "signup_date                object\n",
            "avg_rating_of_driver      float64\n",
            "avg_surge                 float64\n",
            "last_trip_date             object\n",
            "phone                      object\n",
            "surge_pct                 float64\n",
            "ultimate_black_user          bool\n",
            "weekday_pct               float64\n",
            "avg_dist                  float64\n",
            "avg_rating_by_driver      float64\n",
            "dtype: object\n",
            "<class 'pandas.core.frame.DataFrame'>\n",
            "RangeIndex: 50000 entries, 0 to 49999\n",
            "Data columns (total 12 columns):\n",
            " #   Column                  Non-Null Count  Dtype  \n",
            "---  ------                  --------------  -----  \n",
            " 0   city                    50000 non-null  object \n",
            " 1   trips_in_first_30_days  50000 non-null  int64  \n",
            " 2   signup_date             50000 non-null  object \n",
            " 3   avg_rating_of_driver    41878 non-null  float64\n",
            " 4   avg_surge               50000 non-null  float64\n",
            " 5   last_trip_date          50000 non-null  object \n",
            " 6   phone                   49604 non-null  object \n",
            " 7   surge_pct               50000 non-null  float64\n",
            " 8   ultimate_black_user     50000 non-null  bool   \n",
            " 9   weekday_pct             50000 non-null  float64\n",
            " 10  avg_dist                50000 non-null  float64\n",
            " 11  avg_rating_by_driver    49799 non-null  float64\n",
            "dtypes: bool(1), float64(6), int64(1), object(4)\n",
            "memory usage: 4.2+ MB\n",
            "None\n",
            "Index(['city', 'trips_in_first_30_days', 'signup_date', 'avg_rating_of_driver',\n",
            "       'avg_surge', 'last_trip_date', 'phone', 'surge_pct',\n",
            "       'ultimate_black_user', 'weekday_pct', 'avg_dist',\n",
            "       'avg_rating_by_driver'],\n",
            "      dtype='object')\n"
          ]
        }
      ]
    },
    {
      "cell_type": "markdown",
      "source": [
        "**Missing values are founding in the following columns:**\n",
        "\n",
        "ave_rating_of_driver\n",
        "\n",
        "phone number\n",
        "\n",
        "avg_rating_by_driver\n",
        "\n",
        "**The following columns will need to be converted to date time:**\n",
        "\n",
        "signup_date\n",
        "\n",
        "last_trip_date\n"
      ],
      "metadata": {
        "id": "V1jUoB4d7GJj"
      }
    },
    {
      "cell_type": "code",
      "source": [
        "# Check if 'phone' column exists in the DataFrame\n",
        "if 'phone' in df_ultimate.columns:\n",
        "    # Impute 'phone' with 'Unknown' if it exists\n",
        "    df_ultimate['phone'].fillna('Unknown', inplace=True)\n",
        "else:\n",
        "    # Print a message or handle the case where 'phone' column is missing\n",
        "    print(\"Column 'phone' not found in the DataFrame.\")\n",
        "\n",
        "# Impute avg_rating_of_driver with median\n",
        "df_ultimate['avg_rating_of_driver'].fillna(df_ultimate['avg_rating_of_driver'].median(), inplace=True)\n",
        "# Impute avg_rating_by_driver with median\n",
        "df_ultimate['avg_rating_by_driver'].fillna(df_ultimate['avg_rating_by_driver'].median(), inplace=True)"
      ],
      "metadata": {
        "id": "SpjwfFtS8EHG"
      },
      "execution_count": 49,
      "outputs": []
    },
    {
      "cell_type": "code",
      "source": [
        "df_ultimate['signup_date'] = pd.to_datetime(df_ultimate['signup_date'])\n",
        "df_ultimate['last_trip_date'] = pd.to_datetime(df_ultimate['last_trip_date'])"
      ],
      "metadata": {
        "id": "ofEBfLtz9wLF"
      },
      "execution_count": 50,
      "outputs": []
    },
    {
      "cell_type": "code",
      "source": [
        "# Checking for dupliactes\n",
        "duplicates = df_ultimate.duplicated().sum()\n",
        "print(\"Number of duplicate rows:, {duplicates}\")\n",
        "print(duplicates.sum().sum())\n",
        "\n",
        "# Dropping duplicate rows\n",
        "df_ultimate.drop_duplicates(inplace=True)"
      ],
      "metadata": {
        "colab": {
          "base_uri": "https://localhost:8080/"
        },
        "id": "6WC_Wpxn78YR",
        "outputId": "dd924b46-fc94-4af3-eebb-ffd4510627f2"
      },
      "execution_count": 51,
      "outputs": [
        {
          "output_type": "stream",
          "name": "stdout",
          "text": [
            "Number of duplicate rows:, {duplicates}\n",
            "8\n"
          ]
        }
      ]
    },
    {
      "cell_type": "code",
      "source": [
        "# Categorical Variables to be Standardized\n",
        "\n",
        "df_ultimate['city'] = df_ultimate['city'].str.strip().str.lower()\n",
        "df_ultimate['phone'] = df_ultimate['phone'].str.strip().str.lower()\n",
        "\n",
        "# Checking for unique values in Categorical Variables\n",
        "print(df_ultimate['city'].unique())\n",
        "print(df_ultimate['phone'].unique())"
      ],
      "metadata": {
        "colab": {
          "base_uri": "https://localhost:8080/"
        },
        "id": "nDDVV4mo756N",
        "outputId": "0321c5cf-bf1e-4a69-a5c3-e718d95232b9"
      },
      "execution_count": 52,
      "outputs": [
        {
          "output_type": "stream",
          "name": "stdout",
          "text": [
            "[\"king's landing\" 'astapor' 'winterfell']\n",
            "['iphone' 'android' 'unknown']\n"
          ]
        }
      ]
    },
    {
      "cell_type": "code",
      "source": [
        "df_ultimate['city'] = df_ultimate['city'].astype('category')\n",
        "df_ultimate['phone'] = df_ultimate['phone'].astype('category')"
      ],
      "metadata": {
        "id": "5R1hqKNWAxSE"
      },
      "execution_count": 54,
      "outputs": []
    },
    {
      "cell_type": "code",
      "source": [
        "# Checking to see result of cleaned data\n",
        "print(df_ultimate.info())\n"
      ],
      "metadata": {
        "colab": {
          "base_uri": "https://localhost:8080/"
        },
        "id": "QFdbQ950714O",
        "outputId": "392008c8-a3d7-4743-f185-18870af59cab"
      },
      "execution_count": 55,
      "outputs": [
        {
          "output_type": "stream",
          "name": "stdout",
          "text": [
            "<class 'pandas.core.frame.DataFrame'>\n",
            "Index: 49992 entries, 0 to 49999\n",
            "Data columns (total 12 columns):\n",
            " #   Column                  Non-Null Count  Dtype         \n",
            "---  ------                  --------------  -----         \n",
            " 0   city                    49992 non-null  category      \n",
            " 1   trips_in_first_30_days  49992 non-null  int64         \n",
            " 2   signup_date             49992 non-null  datetime64[ns]\n",
            " 3   avg_rating_of_driver    49992 non-null  float64       \n",
            " 4   avg_surge               49992 non-null  float64       \n",
            " 5   last_trip_date          49992 non-null  datetime64[ns]\n",
            " 6   phone                   49992 non-null  category      \n",
            " 7   surge_pct               49992 non-null  float64       \n",
            " 8   ultimate_black_user     49992 non-null  bool          \n",
            " 9   weekday_pct             49992 non-null  float64       \n",
            " 10  avg_dist                49992 non-null  float64       \n",
            " 11  avg_rating_by_driver    49992 non-null  float64       \n",
            "dtypes: bool(1), category(2), datetime64[ns](2), float64(6), int64(1)\n",
            "memory usage: 4.0 MB\n",
            "None\n"
          ]
        }
      ]
    },
    {
      "cell_type": "markdown",
      "source": [
        "The Ultimate DataFrame has been cleaned by:\n",
        "\n",
        "\n",
        "\n",
        "*   Assessing and handling missing values\n",
        "*   Converting appropriate columns to dt\n",
        "\n",
        "\n",
        "\n",
        "*   Checking for duplicates\n",
        "*   Dropping duplicate values (total of 8)\n",
        "\n",
        "\n",
        "*   Standardizing unique string values\n",
        "*   Converting unique string values to objects\n",
        "\n",
        "\n",
        "\n"
      ],
      "metadata": {
        "id": "zm9SU1rjBE7w"
      }
    },
    {
      "cell_type": "markdown",
      "source": [
        "**Visualization**"
      ],
      "metadata": {
        "id": "j9xsCcGGFDTK"
      }
    },
    {
      "cell_type": "code",
      "source": [
        "# Trips in 30 days vs Ultimate Black User\n",
        "# average trips for each group\n",
        "avg_trips = df_ultimate.groupby('ultimate_black_user')['trips_in_first_30_days'].mean().reset_index()\n",
        "\n",
        "#  bar plot\n",
        "plt.figure(figsize=(8, 6))\n",
        "sns.barplot(x='ultimate_black_user', y='trips_in_first_30_days', data=avg_trips)\n",
        "\n",
        "plt.title('Average Trips in First 30 Days vs. Ultimate Black User')\n",
        "plt.xlabel('Ultimate Black User')\n",
        "plt.ylabel('Average Trips in First 30 Days')\n",
        "plt.xticks([0, 1], ['Not Ultimate Black', 'Ultimate Black'])\n"
      ],
      "metadata": {
        "colab": {
          "base_uri": "https://localhost:8080/",
          "height": 616
        },
        "id": "B87JmhAfI9g1",
        "outputId": "d1fa2efc-6303-4ed2-c054-b779798df177"
      },
      "execution_count": 56,
      "outputs": [
        {
          "output_type": "execute_result",
          "data": {
            "text/plain": [
              "([<matplotlib.axis.XTick at 0x7cdd6555f0d0>,\n",
              "  <matplotlib.axis.XTick at 0x7cdd6555f0a0>],\n",
              " [Text(0, 0, 'Not Ultimate Black'), Text(1, 0, 'Ultimate Black')])"
            ]
          },
          "metadata": {},
          "execution_count": 56
        },
        {
          "output_type": "display_data",
          "data": {
            "text/plain": [
              "<Figure size 800x600 with 1 Axes>"
            ],
            "image/png": "[encoded data removed]"
          },
          "metadata": {}
        }
      ]
    },
    {
      "cell_type": "markdown",
      "source": [
        "Ultimate Black users had an average of 2.7 trips in first 30 days of sign-up vs an average of 2.0 trips in those who were not Ultimate Black users.\n",
        "\n",
        "This suggests that Ultimate Black users are inititially slightly more engaged and could convey that they are more likely to retain their membership.\n"
      ],
      "metadata": {
        "id": "yIN_NDhWttjb"
      }
    },
    {
      "cell_type": "code",
      "source": [
        "# Calculate the mean signup count\n",
        "mean_signups = signup_counts.mean()\n",
        "print(mean_signups)\n",
        "\n",
        "\n",
        "plt.subplot(1,2,1)\n",
        "df_ultimate['signup_date'].value_counts().sort_index().plot()\n",
        "plt.title(\"Signups Over Time\")\n",
        "plt.xlabel(\"Date\")\n",
        "plt.ylabel(\"Number of Signups\")\n",
        "\n",
        "plt.subplot(1,2,2)\n",
        "df_ultimate['last_trip_date'].value_counts().sort_index().plot()\n",
        "plt.title(\"Last Trips Over Time\")\n",
        "plt.xlabel(\"Last Trip Date\")\n",
        "plt.ylabel(\"Number of Trips\")\n",
        "\n",
        "plt.tight_layout()\n",
        "plt.show()"
      ],
      "metadata": {
        "colab": {
          "base_uri": "https://localhost:8080/",
          "height": 211
        },
        "id": "SuK-l-eGnTxa",
        "outputId": "4056556a-dc78-48ec-99b4-bddcb7a9fa63"
      },
      "execution_count": 57,
      "outputs": [
        {
          "output_type": "error",
          "ename": "NameError",
          "evalue": "name 'signup_counts' is not defined",
          "traceback": [
            "\u001b[0;31m---------------------------------------------------------------------------\u001b[0m",
            "\u001b[0;31mNameError\u001b[0m                                 Traceback (most recent call last)",
            "\u001b[0;32m<ipython-input-57-4bf0a38fe90f>\u001b[0m in \u001b[0;36m<cell line: 2>\u001b[0;34m()\u001b[0m\n\u001b[1;32m      1\u001b[0m \u001b[0;31m# Calculate the mean signup count\u001b[0m\u001b[0;34m\u001b[0m\u001b[0;34m\u001b[0m\u001b[0m\n\u001b[0;32m----> 2\u001b[0;31m \u001b[0mmean_signups\u001b[0m \u001b[0;34m=\u001b[0m \u001b[0msignup_counts\u001b[0m\u001b[0;34m.\u001b[0m\u001b[0mmean\u001b[0m\u001b[0;34m(\u001b[0m\u001b[0;34m)\u001b[0m\u001b[0;34m\u001b[0m\u001b[0;34m\u001b[0m\u001b[0m\n\u001b[0m\u001b[1;32m      3\u001b[0m \u001b[0mprint\u001b[0m\u001b[0;34m(\u001b[0m\u001b[0mmean_signups\u001b[0m\u001b[0;34m)\u001b[0m\u001b[0;34m\u001b[0m\u001b[0;34m\u001b[0m\u001b[0m\n\u001b[1;32m      4\u001b[0m \u001b[0;34m\u001b[0m\u001b[0m\n\u001b[1;32m      5\u001b[0m \u001b[0;34m\u001b[0m\u001b[0m\n",
            "\u001b[0;31mNameError\u001b[0m: name 'signup_counts' is not defined"
          ]
        }
      ]
    },
    {
      "cell_type": "markdown",
      "source": [
        "User sign-up oscillated with peaks and valleys during the month of January 2014. At the beginning of January they started with 1000 signups and peaked to about 3000 signups in the middle of the month. At the end of the month there were about 2000 signups.\n",
        "\n",
        "The mean number of sign ups was 1612 over the span of the month.\n",
        "\n",
        "\n",
        "Overall there is a large jump from 250 trips in January with an upward trend to 2000 in July suggesting that overtime user usage increased.\n",
        "\n"
      ],
      "metadata": {
        "id": "SO6EJ44ZoegW"
      }
    },
    {
      "cell_type": "code",
      "source": [
        "# Discovering percentage of active users\n",
        "\n",
        "last_date = df_ultimate['last_trip_date'].max()\n",
        "\n",
        "# Calculate the date 30 days ago\n",
        "thirty_days_ago = last_date - pd.Timedelta(days=30)\n",
        "\n",
        "retained_users = df_ultimate[df_ultimate['last_trip_date'] >= thirty_days_ago]\n",
        "\n",
        "retention_rate = len(retained_users) / len(df_ultimate) * 100\n",
        "\n",
        "print(f\"Retention Rate: {retention_rate:.2f}%\")"
      ],
      "metadata": {
        "id": "Xz___ysq0GIK"
      },
      "execution_count": null,
      "outputs": []
    },
    {
      "cell_type": "code",
      "source": [
        "# Add 'retained' column\n",
        "df_ultimate['retained'] = df_ultimate.index.isin(retained_users)\n",
        "\n",
        "# Print updated DataFrame\n",
        "print(df_ultimate.head())"
      ],
      "metadata": {
        "id": "HnjDOhwn-dKb"
      },
      "execution_count": null,
      "outputs": []
    },
    {
      "cell_type": "code",
      "source": [
        "# City Distribution\n",
        "# occurrences of each city\n",
        "city_counts = df_ultimate['city'].value_counts()\n",
        "\n",
        "# bar plot\n",
        "plt.figure(figsize=(12, 6))\n",
        "sns.barplot(x=city_counts.index, y=city_counts.values)\n",
        "\n",
        "plt.title('Distribution of Users Across Cities')\n",
        "plt.xlabel('City')\n",
        "plt.ylabel('Number of Users')\n",
        "plt.xticks(rotation=45, ha='right')\n",
        "\n",
        "plt.show()"
      ],
      "metadata": {
        "id": "7xhzJ9ZK7oKa"
      },
      "execution_count": null,
      "outputs": []
    },
    {
      "cell_type": "markdown",
      "source": [
        "The predominent number of users reside in Winterfell."
      ],
      "metadata": {
        "id": "P2aKLu_JvQOT"
      }
    },
    {
      "cell_type": "code",
      "source": [
        "# Distribution Average Ratings by City\n",
        "# Group data by city and calculate average ratings\n",
        "city_ratings = df_ultimate.groupby('city')[['avg_rating_by_driver', 'avg_rating_of_driver']].mean().reset_index()\n",
        "\n",
        "# Create subplots\n",
        "fig, axes = plt.subplots(1, 2, figsize=(14, 6))\n",
        "\n",
        "#  Average rating by driver\n",
        "sns.barplot(x='city', y='avg_rating_by_driver', data=city_ratings, ax=axes[0])\n",
        "axes[0].set_title('Average Rating by Driver, Grouped by City')\n",
        "axes[0].set_xlabel('City')\n",
        "axes[0].set_ylabel('Average Rating by Driver')\n",
        "axes[0].tick_params(axis='x', rotation=45)\n",
        "\n",
        "#  Average rating of driver\n",
        "sns.barplot(x='city', y='avg_rating_of_driver', data=city_ratings, ax=axes[1])\n",
        "axes[1].set_title('Average Rating of Driver, Grouped by City')\n",
        "axes[1].set_xlabel('City')\n",
        "axes[1].set_ylabel('Average Rating of Driver')\n",
        "axes[1].tick_params(axis='x', rotation=45)\n",
        "\n",
        "plt.tight_layout()\n",
        "plt.show()\n",
        "\n"
      ],
      "metadata": {
        "id": "Fy1Tqh09JM22"
      },
      "execution_count": null,
      "outputs": []
    },
    {
      "cell_type": "markdown",
      "source": [
        "Ratings of drivers and of overall rides tends to remain high around 4 across all cities. Consistently high ratings could suggest why user engagment increased overtime."
      ],
      "metadata": {
        "id": "RoHUS9DWxLar"
      }
    },
    {
      "cell_type": "code",
      "source": [
        "# Weekday Percentage Distribution\n",
        "\n",
        "# histogram\n",
        "plt.figure(figsize=(8, 6))\n",
        "sns.histplot(df_ultimate['weekday_pct'], bins=20, kde=True)  # Adjust bins and kde as needed\n",
        "\n",
        "plt.title('Distribution of Weekday Percentage')\n",
        "plt.xlabel('Weekday Percentage')\n",
        "plt.ylabel('Frequency')\n",
        "\n",
        "plt.show()\n"
      ],
      "metadata": {
        "id": "FjWJhf87JWyf"
      },
      "execution_count": null,
      "outputs": []
    },
    {
      "cell_type": "markdown",
      "source": [
        "There is an uneven distribution of weekday percentage with 0% and 100% having the highest frequency. Thus,  highlighting two primary user behaviors: weekday exclusive and weekend exclusive usage. Understanding these behaviors can lead to nuanced approaches in marketing campaigns to better meet the needs of each user group."
      ],
      "metadata": {
        "id": "qwJP-Svoyl_G"
      }
    },
    {
      "cell_type": "code",
      "source": [
        "# frequency by phone category\n",
        "trip_frequency_by_phone = df_ultimate.groupby('phone')['trips_in_first_30_days'].sum()\n",
        "\n",
        "print(\"Trip Frequency by Phone Category:\")\n",
        "print(trip_frequency_by_phone)\n",
        "\n",
        "\n",
        "# average distance by phone category\n",
        "avg_distance_by_phone = df_ultimate.groupby('phone')['avg_dist'].mean()\n",
        "\n",
        "\n",
        "print(\"Average Distance by Phone Category:\")\n",
        "print(avg_distance_by_phone)\n"
      ],
      "metadata": {
        "id": "xSW9q5LJJms1"
      },
      "execution_count": null,
      "outputs": []
    },
    {
      "cell_type": "markdown",
      "source": [
        "Users who use iphones tend to use Ultimate more than other users with other phone carriers. However of those who signed up in the first 30 days, android and iphone users travelled the same average distance (~6 miles).\n",
        "\n",
        "Therefore, iphone users may be more likely to retain ultimate membership versus other phone carriers since they tend to have a higher frequency of trips overall."
      ],
      "metadata": {
        "id": "k6uzdIRm8iLb"
      }
    },
    {
      "cell_type": "markdown",
      "source": [],
      "metadata": {
        "id": "o6RRMXKUKLIx"
      }
    },
    {
      "cell_type": "markdown",
      "source": [
        "### **K-Means: for feature extraction**"
      ],
      "metadata": {
        "id": "Y_bkroID98tq"
      }
    },
    {
      "cell_type": "code",
      "source": [
        "# Elbow method\n",
        "plt.figure(figsize=(8, 6))\n",
        "plt.plot(k_range, inertia, marker='o', linestyle='--')\n",
        "plt.title('Elbow Method for Optimal K')\n",
        "plt.xlabel('Number of Clusters (K)')\n",
        "plt.ylabel('Inertia')\n",
        "\n",
        "\n",
        "\n"
      ],
      "metadata": {
        "id": "zm5q03WY-ARy"
      },
      "execution_count": null,
      "outputs": []
    },
    {
      "cell_type": "code",
      "source": [
        "optimal_k = 6\n",
        "kmeans = KMeans(n_clusters=optimal_k, random_state=42)\n",
        "cluster_labels = kmeans.fit_predict(scaled_features)\n",
        "df_ultimate['cluster'] = cluster_labels\n",
        "\n",
        "# Selecting only numerical features for calculating the mean\n",
        "numerical_features = df_ultimate.select_dtypes(include=['number'])\n",
        "cluster_analysis = numerical_features.groupby('cluster').mean()\n",
        "print(cluster_analysis)\n",
        "\n",
        "sns.pairplot(df_ultimate, hue='cluster', vars=['trips_in_first_30_days',\n",
        "'avg_rating_of_driver','avg_dist','weekday_pct','retained'])\n",
        "\n",
        "plt.title('Cluster Analysis- Pairplot')\n",
        "plt.show()\n",
        "\n",
        "\n",
        "\n",
        "\n",
        "\n",
        "\n",
        "\n",
        "\n",
        "\n",
        "\n",
        "\n"
      ],
      "metadata": {
        "id": "QccGI2ta_qzT"
      },
      "execution_count": null,
      "outputs": []
    },
    {
      "cell_type": "markdown",
      "source": [
        "## Summary\n",
        "\n",
        "Cluster 0:\n",
        "\n",
        "\n",
        "-  Relatively low trips in the first 30 days (0.93).\n",
        "\n",
        "-  Moderate-high driver ratings (4.58).\n",
        "    \n",
        "-  Moderate surge multiplier (1.07) and surge percentage (7.46%).\n",
        "-  Casual or infrequent users who generally have positive experiences but encounter some surge pricing.\n",
        "\n",
        "Cluster 1:\n",
        "\n",
        "- High trips in the first 30 days (1.68)\n",
        "\n",
        "-  High driver ratings (4.81).\n",
        "-  Moderate surge multiplier (1.06) and surge percentage (7.36%).\n",
        "-  Frequent users who are satisfied with the service and encounter surge pricing occasionally.\n",
        "\n",
        "\n",
        "Cluster 2:\n",
        "\n",
        "-  Low trips in the first 30 days (0.90).\n",
        "-  High driver ratings (4.83).\n",
        "-  Low surge multiplier (1.03) and surge percentage (3.33%).\n",
        "-  Occasional users who prioritize good driver experiences and tend to avoid surge pricing.\n",
        "\n",
        "\n",
        "Cluster 3:\n",
        "\n",
        "-  High trips in the first 30 days (2.11).\n",
        "-  Low driver ratings (3.46).\n",
        "-  Moderate surge multiplier (1.08) and high surge percentage (9.02%).\n",
        "-  Very frequent users who might have more demanding expectations, potentially encountering more surge pricing and having less positive driver experiences.\n"
      ],
      "metadata": {
        "id": "oChxBbC9DZHT"
      }
    },
    {
      "cell_type": "markdown",
      "source": [
        "Cluster 4:\n",
        "\n",
        "-  Moderate trips in the first 30 days (1.42).\n",
        "-  High driver ratings (4.83).\n",
        "-  High surge multiplier (1.11) and surge percentage (12.48%).\n",
        "-  Frequent riders who value good drivers but are often subject to high surge pricing, possibly due to their trip times or locations.\n",
        "\n",
        "Clusters 5 & 6 did not provide feature means and were difficult to interpret"
      ],
      "metadata": {
        "id": "iALVkfSdEQR9"
      }
    },
    {
      "cell_type": "code",
      "source": [
        "# Create dummy variables for 'phone' and 'city'\n",
        "df_ultimate = pd.get_dummies(df_ultimate, columns=['phone', 'city'], drop_first=True)\n",
        "\n",
        "\n",
        "print(df_ultimate.columns)"
      ],
      "metadata": {
        "id": "BOssXuLmKfb2"
      },
      "execution_count": null,
      "outputs": []
    },
    {
      "cell_type": "markdown",
      "source": [
        "## Modeling\n"
      ],
      "metadata": {
        "id": "LLvyjI8QGUFz"
      }
    },
    {
      "cell_type": "code",
      "source": [
        "from sklearn.model_selection import train_test_split\n",
        "from sklearn.linear_model import LogisticRegression\n",
        "from sklearn.ensemble import RandomForestClassifier\n",
        "from sklearn.metrics import accuracy_score\n",
        "\n",
        "df_ultimate['cluster'] = pd.to_numeric(df_ultimate['cluster'])\n",
        "# features vs target variable\n",
        "features = ['trips_in_first_30_days','avg_surge', 'surge_pct', 'cluster','phone','city']\n",
        "target = 'retained'\n",
        "\n",
        "X = df_ultimate[features]\n",
        "y = df_ultimate[target]\n",
        "\n",
        "# Split data into training and testing sets\n",
        "X_train, X_test, y_train, y_test = train_test_split(X, y, test_size=0.2, random_state=42)\n",
        "\n",
        "\n",
        "# Random Forest\n",
        "rf_model = RandomForestClassifier(random_state=42)\n",
        "rf_model.fit(X_train, y_train)\n",
        "\n",
        "# Make predictions\n",
        "rf_predictions = rf_model.predict(X_test)\n",
        "\n",
        "# Evaluate the models\n",
        "rf_accuracy = accuracy_score(y_test, rf_predictions)\n",
        "\n",
        "print(f\"Random Forest Accuracy: {rf_accuracy}\")\n"
      ],
      "metadata": {
        "id": "Y_HDiEQjGWzk"
      },
      "execution_count": null,
      "outputs": []
    },
    {
      "cell_type": "code",
      "source": [
        "from sklearn.model_selection import train_test_split, cross_val_score\n",
        "from sklearn.ensemble import RandomForestClassifier\n",
        "\n",
        "# cross-validation\n",
        "scores = cross_val_score(rf_model, X, y, cv=5, scoring='accuracy')  # cv=5 for 5-fold cross-validation\n",
        "\n",
        "# Print the results\n",
        "print(\"Cross-validation scores:\", scores)\n",
        "print(\"Average accuracy:\", scores.mean())\n",
        "print(\"Standard deviation:\", scores.std())"
      ],
      "metadata": {
        "id": "mJZmsS6zJYv_"
      },
      "execution_count": null,
      "outputs": []
    }
  ]
}